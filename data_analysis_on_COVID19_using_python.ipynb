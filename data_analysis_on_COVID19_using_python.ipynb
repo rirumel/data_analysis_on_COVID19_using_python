{
 "cells": [
  {
   "cell_type": "code",
   "execution_count": 1,
   "id": "d6093402",
   "metadata": {},
   "outputs": [],
   "source": [
    "#Import Libraries\n",
    "\n",
    "import pandas as pd\n",
    "import numpy as np\n",
    "import matplotlib.pyplot as plt\n",
    "import seaborn as sns\n",
    "import plotly.express as px\n",
    "from plotly.subplots import make_subplots\n",
    "from datetime import datetime"
   ]
  },
  {
   "cell_type": "code",
   "execution_count": 2,
   "id": "60687894",
   "metadata": {},
   "outputs": [],
   "source": [
    "#import dataset\n",
    "\n",
    "covid_de_df = pd.read_csv(\"F:/data_analyst_project/python/covid_project/dataset/covid_de.csv\")"
   ]
  },
  {
   "cell_type": "code",
   "execution_count": 3,
   "id": "b47820af",
   "metadata": {},
   "outputs": [
    {
     "data": {
      "text/html": [
       "<div>\n",
       "<style scoped>\n",
       "    .dataframe tbody tr th:only-of-type {\n",
       "        vertical-align: middle;\n",
       "    }\n",
       "\n",
       "    .dataframe tbody tr th {\n",
       "        vertical-align: top;\n",
       "    }\n",
       "\n",
       "    .dataframe thead th {\n",
       "        text-align: right;\n",
       "    }\n",
       "</style>\n",
       "<table border=\"1\" class=\"dataframe\">\n",
       "  <thead>\n",
       "    <tr style=\"text-align: right;\">\n",
       "      <th></th>\n",
       "      <th>state</th>\n",
       "      <th>county</th>\n",
       "      <th>age_group</th>\n",
       "      <th>gender</th>\n",
       "      <th>date</th>\n",
       "      <th>cases</th>\n",
       "      <th>deaths</th>\n",
       "      <th>recovered</th>\n",
       "    </tr>\n",
       "  </thead>\n",
       "  <tbody>\n",
       "    <tr>\n",
       "      <th>0</th>\n",
       "      <td>Baden-Wuerttemberg</td>\n",
       "      <td>LK Alb-Donau-Kreis</td>\n",
       "      <td>00-04</td>\n",
       "      <td>F</td>\n",
       "      <td>2020-03-27</td>\n",
       "      <td>1</td>\n",
       "      <td>0</td>\n",
       "      <td>1</td>\n",
       "    </tr>\n",
       "    <tr>\n",
       "      <th>1</th>\n",
       "      <td>Baden-Wuerttemberg</td>\n",
       "      <td>LK Alb-Donau-Kreis</td>\n",
       "      <td>00-04</td>\n",
       "      <td>F</td>\n",
       "      <td>2020-03-28</td>\n",
       "      <td>1</td>\n",
       "      <td>0</td>\n",
       "      <td>1</td>\n",
       "    </tr>\n",
       "    <tr>\n",
       "      <th>2</th>\n",
       "      <td>Baden-Wuerttemberg</td>\n",
       "      <td>LK Alb-Donau-Kreis</td>\n",
       "      <td>00-04</td>\n",
       "      <td>F</td>\n",
       "      <td>2020-04-03</td>\n",
       "      <td>1</td>\n",
       "      <td>0</td>\n",
       "      <td>1</td>\n",
       "    </tr>\n",
       "    <tr>\n",
       "      <th>3</th>\n",
       "      <td>Baden-Wuerttemberg</td>\n",
       "      <td>LK Alb-Donau-Kreis</td>\n",
       "      <td>00-04</td>\n",
       "      <td>F</td>\n",
       "      <td>2020-10-18</td>\n",
       "      <td>1</td>\n",
       "      <td>0</td>\n",
       "      <td>1</td>\n",
       "    </tr>\n",
       "    <tr>\n",
       "      <th>4</th>\n",
       "      <td>Baden-Wuerttemberg</td>\n",
       "      <td>LK Alb-Donau-Kreis</td>\n",
       "      <td>00-04</td>\n",
       "      <td>F</td>\n",
       "      <td>2020-10-22</td>\n",
       "      <td>1</td>\n",
       "      <td>0</td>\n",
       "      <td>1</td>\n",
       "    </tr>\n",
       "    <tr>\n",
       "      <th>5</th>\n",
       "      <td>Baden-Wuerttemberg</td>\n",
       "      <td>LK Alb-Donau-Kreis</td>\n",
       "      <td>00-04</td>\n",
       "      <td>F</td>\n",
       "      <td>2020-10-27</td>\n",
       "      <td>1</td>\n",
       "      <td>0</td>\n",
       "      <td>1</td>\n",
       "    </tr>\n",
       "    <tr>\n",
       "      <th>6</th>\n",
       "      <td>Baden-Wuerttemberg</td>\n",
       "      <td>LK Alb-Donau-Kreis</td>\n",
       "      <td>00-04</td>\n",
       "      <td>F</td>\n",
       "      <td>2020-10-30</td>\n",
       "      <td>3</td>\n",
       "      <td>0</td>\n",
       "      <td>3</td>\n",
       "    </tr>\n",
       "    <tr>\n",
       "      <th>7</th>\n",
       "      <td>Baden-Wuerttemberg</td>\n",
       "      <td>LK Alb-Donau-Kreis</td>\n",
       "      <td>00-04</td>\n",
       "      <td>F</td>\n",
       "      <td>2020-11-03</td>\n",
       "      <td>1</td>\n",
       "      <td>0</td>\n",
       "      <td>1</td>\n",
       "    </tr>\n",
       "    <tr>\n",
       "      <th>8</th>\n",
       "      <td>Baden-Wuerttemberg</td>\n",
       "      <td>LK Alb-Donau-Kreis</td>\n",
       "      <td>00-04</td>\n",
       "      <td>F</td>\n",
       "      <td>2020-11-07</td>\n",
       "      <td>1</td>\n",
       "      <td>0</td>\n",
       "      <td>1</td>\n",
       "    </tr>\n",
       "    <tr>\n",
       "      <th>9</th>\n",
       "      <td>Baden-Wuerttemberg</td>\n",
       "      <td>LK Alb-Donau-Kreis</td>\n",
       "      <td>00-04</td>\n",
       "      <td>F</td>\n",
       "      <td>2020-11-10</td>\n",
       "      <td>1</td>\n",
       "      <td>0</td>\n",
       "      <td>1</td>\n",
       "    </tr>\n",
       "  </tbody>\n",
       "</table>\n",
       "</div>"
      ],
      "text/plain": [
       "                state              county age_group gender        date  cases  \\\n",
       "0  Baden-Wuerttemberg  LK Alb-Donau-Kreis     00-04      F  2020-03-27      1   \n",
       "1  Baden-Wuerttemberg  LK Alb-Donau-Kreis     00-04      F  2020-03-28      1   \n",
       "2  Baden-Wuerttemberg  LK Alb-Donau-Kreis     00-04      F  2020-04-03      1   \n",
       "3  Baden-Wuerttemberg  LK Alb-Donau-Kreis     00-04      F  2020-10-18      1   \n",
       "4  Baden-Wuerttemberg  LK Alb-Donau-Kreis     00-04      F  2020-10-22      1   \n",
       "5  Baden-Wuerttemberg  LK Alb-Donau-Kreis     00-04      F  2020-10-27      1   \n",
       "6  Baden-Wuerttemberg  LK Alb-Donau-Kreis     00-04      F  2020-10-30      3   \n",
       "7  Baden-Wuerttemberg  LK Alb-Donau-Kreis     00-04      F  2020-11-03      1   \n",
       "8  Baden-Wuerttemberg  LK Alb-Donau-Kreis     00-04      F  2020-11-07      1   \n",
       "9  Baden-Wuerttemberg  LK Alb-Donau-Kreis     00-04      F  2020-11-10      1   \n",
       "\n",
       "   deaths  recovered  \n",
       "0       0          1  \n",
       "1       0          1  \n",
       "2       0          1  \n",
       "3       0          1  \n",
       "4       0          1  \n",
       "5       0          1  \n",
       "6       0          3  \n",
       "7       0          1  \n",
       "8       0          1  \n",
       "9       0          1  "
      ]
     },
     "execution_count": 3,
     "metadata": {},
     "output_type": "execute_result"
    }
   ],
   "source": [
    "#Explore the imported dataset\n",
    "covid_de_df.head(10)"
   ]
  },
  {
   "cell_type": "code",
   "execution_count": 4,
   "id": "b59a62f6",
   "metadata": {},
   "outputs": [
    {
     "name": "stdout",
     "output_type": "stream",
     "text": [
      "<class 'pandas.core.frame.DataFrame'>\n",
      "RangeIndex: 2439229 entries, 0 to 2439228\n",
      "Data columns (total 8 columns):\n",
      " #   Column     Dtype \n",
      "---  ------     ----- \n",
      " 0   state      object\n",
      " 1   county     object\n",
      " 2   age_group  object\n",
      " 3   gender     object\n",
      " 4   date       object\n",
      " 5   cases      int64 \n",
      " 6   deaths     int64 \n",
      " 7   recovered  int64 \n",
      "dtypes: int64(3), object(5)\n",
      "memory usage: 148.9+ MB\n"
     ]
    }
   ],
   "source": [
    "#details about the dataset\n",
    "\n",
    "covid_de_df.info()\n"
   ]
  },
  {
   "cell_type": "code",
   "execution_count": 5,
   "id": "471c3a4d",
   "metadata": {},
   "outputs": [
    {
     "data": {
      "text/html": [
       "<div>\n",
       "<style scoped>\n",
       "    .dataframe tbody tr th:only-of-type {\n",
       "        vertical-align: middle;\n",
       "    }\n",
       "\n",
       "    .dataframe tbody tr th {\n",
       "        vertical-align: top;\n",
       "    }\n",
       "\n",
       "    .dataframe thead th {\n",
       "        text-align: right;\n",
       "    }\n",
       "</style>\n",
       "<table border=\"1\" class=\"dataframe\">\n",
       "  <thead>\n",
       "    <tr style=\"text-align: right;\">\n",
       "      <th></th>\n",
       "      <th>cases</th>\n",
       "      <th>deaths</th>\n",
       "      <th>recovered</th>\n",
       "    </tr>\n",
       "  </thead>\n",
       "  <tbody>\n",
       "    <tr>\n",
       "      <th>count</th>\n",
       "      <td>2.439229e+06</td>\n",
       "      <td>2.439229e+06</td>\n",
       "      <td>2.439229e+06</td>\n",
       "    </tr>\n",
       "    <tr>\n",
       "      <th>mean</th>\n",
       "      <td>1.330411e+01</td>\n",
       "      <td>6.079708e-02</td>\n",
       "      <td>1.297635e+01</td>\n",
       "    </tr>\n",
       "    <tr>\n",
       "      <th>std</th>\n",
       "      <td>3.101615e+01</td>\n",
       "      <td>3.339837e-01</td>\n",
       "      <td>3.101017e+01</td>\n",
       "    </tr>\n",
       "    <tr>\n",
       "      <th>min</th>\n",
       "      <td>0.000000e+00</td>\n",
       "      <td>0.000000e+00</td>\n",
       "      <td>-5.000000e+00</td>\n",
       "    </tr>\n",
       "    <tr>\n",
       "      <th>25%</th>\n",
       "      <td>1.000000e+00</td>\n",
       "      <td>0.000000e+00</td>\n",
       "      <td>1.000000e+00</td>\n",
       "    </tr>\n",
       "    <tr>\n",
       "      <th>50%</th>\n",
       "      <td>4.000000e+00</td>\n",
       "      <td>0.000000e+00</td>\n",
       "      <td>4.000000e+00</td>\n",
       "    </tr>\n",
       "    <tr>\n",
       "      <th>75%</th>\n",
       "      <td>1.200000e+01</td>\n",
       "      <td>0.000000e+00</td>\n",
       "      <td>1.100000e+01</td>\n",
       "    </tr>\n",
       "    <tr>\n",
       "      <th>max</th>\n",
       "      <td>2.151000e+03</td>\n",
       "      <td>2.100000e+01</td>\n",
       "      <td>2.151000e+03</td>\n",
       "    </tr>\n",
       "  </tbody>\n",
       "</table>\n",
       "</div>"
      ],
      "text/plain": [
       "              cases        deaths     recovered\n",
       "count  2.439229e+06  2.439229e+06  2.439229e+06\n",
       "mean   1.330411e+01  6.079708e-02  1.297635e+01\n",
       "std    3.101615e+01  3.339837e-01  3.101017e+01\n",
       "min    0.000000e+00  0.000000e+00 -5.000000e+00\n",
       "25%    1.000000e+00  0.000000e+00  1.000000e+00\n",
       "50%    4.000000e+00  0.000000e+00  4.000000e+00\n",
       "75%    1.200000e+01  0.000000e+00  1.100000e+01\n",
       "max    2.151000e+03  2.100000e+01  2.151000e+03"
      ]
     },
     "execution_count": 5,
     "metadata": {},
     "output_type": "execute_result"
    }
   ],
   "source": [
    "# statistical explanation of the columns with integer type values\n",
    "\n",
    "covid_de_df.describe()"
   ]
  },
  {
   "cell_type": "code",
   "execution_count": 6,
   "id": "cbccdcce",
   "metadata": {},
   "outputs": [],
   "source": [
    "covidvac_de_df = pd.read_csv(\"F:/data_analyst_project/python/covid_project/dataset/covid_de_vaccines.csv\")"
   ]
  },
  {
   "cell_type": "code",
   "execution_count": 7,
   "id": "8a493a09",
   "metadata": {},
   "outputs": [
    {
     "data": {
      "text/html": [
       "<div>\n",
       "<style scoped>\n",
       "    .dataframe tbody tr th:only-of-type {\n",
       "        vertical-align: middle;\n",
       "    }\n",
       "\n",
       "    .dataframe tbody tr th {\n",
       "        vertical-align: top;\n",
       "    }\n",
       "\n",
       "    .dataframe thead th {\n",
       "        text-align: right;\n",
       "    }\n",
       "</style>\n",
       "<table border=\"1\" class=\"dataframe\">\n",
       "  <thead>\n",
       "    <tr style=\"text-align: right;\">\n",
       "      <th></th>\n",
       "      <th>date</th>\n",
       "      <th>doses</th>\n",
       "      <th>doses_first</th>\n",
       "      <th>doses_second</th>\n",
       "      <th>pfizer_cumul</th>\n",
       "      <th>moderna_cumul</th>\n",
       "      <th>astrazeneca_cumul</th>\n",
       "      <th>persons_first_cumul</th>\n",
       "      <th>persons_full_cumul</th>\n",
       "    </tr>\n",
       "  </thead>\n",
       "  <tbody>\n",
       "    <tr>\n",
       "      <th>0</th>\n",
       "      <td>2020-12-27</td>\n",
       "      <td>24429</td>\n",
       "      <td>24429</td>\n",
       "      <td>0</td>\n",
       "      <td>24420</td>\n",
       "      <td>8</td>\n",
       "      <td>1</td>\n",
       "      <td>24429</td>\n",
       "      <td>0</td>\n",
       "    </tr>\n",
       "    <tr>\n",
       "      <th>1</th>\n",
       "      <td>2020-12-28</td>\n",
       "      <td>18007</td>\n",
       "      <td>18007</td>\n",
       "      <td>0</td>\n",
       "      <td>42425</td>\n",
       "      <td>9</td>\n",
       "      <td>2</td>\n",
       "      <td>42436</td>\n",
       "      <td>0</td>\n",
       "    </tr>\n",
       "    <tr>\n",
       "      <th>2</th>\n",
       "      <td>2020-12-29</td>\n",
       "      <td>50065</td>\n",
       "      <td>50065</td>\n",
       "      <td>0</td>\n",
       "      <td>92489</td>\n",
       "      <td>9</td>\n",
       "      <td>3</td>\n",
       "      <td>92501</td>\n",
       "      <td>0</td>\n",
       "    </tr>\n",
       "    <tr>\n",
       "      <th>3</th>\n",
       "      <td>2020-12-30</td>\n",
       "      <td>64088</td>\n",
       "      <td>64088</td>\n",
       "      <td>0</td>\n",
       "      <td>156576</td>\n",
       "      <td>10</td>\n",
       "      <td>3</td>\n",
       "      <td>156589</td>\n",
       "      <td>0</td>\n",
       "    </tr>\n",
       "    <tr>\n",
       "      <th>4</th>\n",
       "      <td>2020-12-31</td>\n",
       "      <td>49939</td>\n",
       "      <td>49939</td>\n",
       "      <td>0</td>\n",
       "      <td>206513</td>\n",
       "      <td>12</td>\n",
       "      <td>3</td>\n",
       "      <td>206528</td>\n",
       "      <td>0</td>\n",
       "    </tr>\n",
       "    <tr>\n",
       "      <th>5</th>\n",
       "      <td>2021-01-01</td>\n",
       "      <td>25672</td>\n",
       "      <td>25672</td>\n",
       "      <td>0</td>\n",
       "      <td>232164</td>\n",
       "      <td>27</td>\n",
       "      <td>7</td>\n",
       "      <td>232200</td>\n",
       "      <td>0</td>\n",
       "    </tr>\n",
       "    <tr>\n",
       "      <th>6</th>\n",
       "      <td>2021-01-02</td>\n",
       "      <td>47804</td>\n",
       "      <td>47804</td>\n",
       "      <td>0</td>\n",
       "      <td>279965</td>\n",
       "      <td>28</td>\n",
       "      <td>7</td>\n",
       "      <td>280004</td>\n",
       "      <td>0</td>\n",
       "    </tr>\n",
       "    <tr>\n",
       "      <th>7</th>\n",
       "      <td>2021-01-03</td>\n",
       "      <td>22573</td>\n",
       "      <td>22573</td>\n",
       "      <td>0</td>\n",
       "      <td>302531</td>\n",
       "      <td>35</td>\n",
       "      <td>7</td>\n",
       "      <td>302577</td>\n",
       "      <td>0</td>\n",
       "    </tr>\n",
       "    <tr>\n",
       "      <th>8</th>\n",
       "      <td>2021-01-04</td>\n",
       "      <td>46362</td>\n",
       "      <td>46362</td>\n",
       "      <td>0</td>\n",
       "      <td>348863</td>\n",
       "      <td>46</td>\n",
       "      <td>8</td>\n",
       "      <td>348939</td>\n",
       "      <td>0</td>\n",
       "    </tr>\n",
       "    <tr>\n",
       "      <th>9</th>\n",
       "      <td>2021-01-05</td>\n",
       "      <td>52484</td>\n",
       "      <td>52484</td>\n",
       "      <td>0</td>\n",
       "      <td>401343</td>\n",
       "      <td>50</td>\n",
       "      <td>8</td>\n",
       "      <td>401423</td>\n",
       "      <td>0</td>\n",
       "    </tr>\n",
       "  </tbody>\n",
       "</table>\n",
       "</div>"
      ],
      "text/plain": [
       "         date  doses  doses_first  doses_second  pfizer_cumul  moderna_cumul  \\\n",
       "0  2020-12-27  24429        24429             0         24420              8   \n",
       "1  2020-12-28  18007        18007             0         42425              9   \n",
       "2  2020-12-29  50065        50065             0         92489              9   \n",
       "3  2020-12-30  64088        64088             0        156576             10   \n",
       "4  2020-12-31  49939        49939             0        206513             12   \n",
       "5  2021-01-01  25672        25672             0        232164             27   \n",
       "6  2021-01-02  47804        47804             0        279965             28   \n",
       "7  2021-01-03  22573        22573             0        302531             35   \n",
       "8  2021-01-04  46362        46362             0        348863             46   \n",
       "9  2021-01-05  52484        52484             0        401343             50   \n",
       "\n",
       "   astrazeneca_cumul  persons_first_cumul  persons_full_cumul  \n",
       "0                  1                24429                   0  \n",
       "1                  2                42436                   0  \n",
       "2                  3                92501                   0  \n",
       "3                  3               156589                   0  \n",
       "4                  3               206528                   0  \n",
       "5                  7               232200                   0  \n",
       "6                  7               280004                   0  \n",
       "7                  7               302577                   0  \n",
       "8                  8               348939                   0  \n",
       "9                  8               401423                   0  "
      ]
     },
     "execution_count": 7,
     "metadata": {},
     "output_type": "execute_result"
    }
   ],
   "source": [
    "covidvac_de_df.head(10)"
   ]
  },
  {
   "cell_type": "code",
   "execution_count": 8,
   "id": "b2aa0664",
   "metadata": {},
   "outputs": [
    {
     "name": "stdout",
     "output_type": "stream",
     "text": [
      "<class 'pandas.core.frame.DataFrame'>\n",
      "RangeIndex: 622 entries, 0 to 621\n",
      "Data columns (total 9 columns):\n",
      " #   Column               Non-Null Count  Dtype \n",
      "---  ------               --------------  ----- \n",
      " 0   date                 622 non-null    object\n",
      " 1   doses                622 non-null    int64 \n",
      " 2   doses_first          622 non-null    int64 \n",
      " 3   doses_second         622 non-null    int64 \n",
      " 4   pfizer_cumul         622 non-null    int64 \n",
      " 5   moderna_cumul        622 non-null    int64 \n",
      " 6   astrazeneca_cumul    622 non-null    int64 \n",
      " 7   persons_first_cumul  622 non-null    int64 \n",
      " 8   persons_full_cumul   622 non-null    int64 \n",
      "dtypes: int64(8), object(1)\n",
      "memory usage: 43.9+ KB\n"
     ]
    }
   ],
   "source": [
    "covidvac_de_df.info()"
   ]
  },
  {
   "cell_type": "code",
   "execution_count": 9,
   "id": "29089bc1",
   "metadata": {},
   "outputs": [],
   "source": [
    "#Redesigning the first dataset and keeping only those columns that I'm interested in\n",
    "\n",
    "covid_de_df.drop([\"county\", \"age_group\", \"gender\"], inplace = True, axis = 1)"
   ]
  },
  {
   "cell_type": "code",
   "execution_count": 10,
   "id": "ce498309",
   "metadata": {},
   "outputs": [
    {
     "data": {
      "text/html": [
       "<div>\n",
       "<style scoped>\n",
       "    .dataframe tbody tr th:only-of-type {\n",
       "        vertical-align: middle;\n",
       "    }\n",
       "\n",
       "    .dataframe tbody tr th {\n",
       "        vertical-align: top;\n",
       "    }\n",
       "\n",
       "    .dataframe thead th {\n",
       "        text-align: right;\n",
       "    }\n",
       "</style>\n",
       "<table border=\"1\" class=\"dataframe\">\n",
       "  <thead>\n",
       "    <tr style=\"text-align: right;\">\n",
       "      <th></th>\n",
       "      <th>state</th>\n",
       "      <th>date</th>\n",
       "      <th>cases</th>\n",
       "      <th>deaths</th>\n",
       "      <th>recovered</th>\n",
       "    </tr>\n",
       "  </thead>\n",
       "  <tbody>\n",
       "    <tr>\n",
       "      <th>0</th>\n",
       "      <td>Baden-Wuerttemberg</td>\n",
       "      <td>2020-03-27</td>\n",
       "      <td>1</td>\n",
       "      <td>0</td>\n",
       "      <td>1</td>\n",
       "    </tr>\n",
       "    <tr>\n",
       "      <th>1</th>\n",
       "      <td>Baden-Wuerttemberg</td>\n",
       "      <td>2020-03-28</td>\n",
       "      <td>1</td>\n",
       "      <td>0</td>\n",
       "      <td>1</td>\n",
       "    </tr>\n",
       "    <tr>\n",
       "      <th>2</th>\n",
       "      <td>Baden-Wuerttemberg</td>\n",
       "      <td>2020-04-03</td>\n",
       "      <td>1</td>\n",
       "      <td>0</td>\n",
       "      <td>1</td>\n",
       "    </tr>\n",
       "    <tr>\n",
       "      <th>3</th>\n",
       "      <td>Baden-Wuerttemberg</td>\n",
       "      <td>2020-10-18</td>\n",
       "      <td>1</td>\n",
       "      <td>0</td>\n",
       "      <td>1</td>\n",
       "    </tr>\n",
       "    <tr>\n",
       "      <th>4</th>\n",
       "      <td>Baden-Wuerttemberg</td>\n",
       "      <td>2020-10-22</td>\n",
       "      <td>1</td>\n",
       "      <td>0</td>\n",
       "      <td>1</td>\n",
       "    </tr>\n",
       "  </tbody>\n",
       "</table>\n",
       "</div>"
      ],
      "text/plain": [
       "                state        date  cases  deaths  recovered\n",
       "0  Baden-Wuerttemberg  2020-03-27      1       0          1\n",
       "1  Baden-Wuerttemberg  2020-03-28      1       0          1\n",
       "2  Baden-Wuerttemberg  2020-04-03      1       0          1\n",
       "3  Baden-Wuerttemberg  2020-10-18      1       0          1\n",
       "4  Baden-Wuerttemberg  2020-10-22      1       0          1"
      ]
     },
     "execution_count": 10,
     "metadata": {},
     "output_type": "execute_result"
    }
   ],
   "source": [
    "#look into the redesigned dataset now\n",
    "\n",
    "covid_de_df.head()"
   ]
  },
  {
   "cell_type": "code",
   "execution_count": 11,
   "id": "c503a2ec",
   "metadata": {},
   "outputs": [],
   "source": [
    "#Changing the data type of date from object to datetime\n",
    "\n",
    "covid_de_df[\"date\"] = pd.to_datetime(covid_de_df[\"date\"], format='%Y-%m-%d')"
   ]
  },
  {
   "cell_type": "code",
   "execution_count": 12,
   "id": "f05d7aa9",
   "metadata": {},
   "outputs": [],
   "source": [
    "# covid_de_df[\"state_dup\"] = covid_de_df[\"state\"] "
   ]
  },
  {
   "cell_type": "code",
   "execution_count": 13,
   "id": "89372547",
   "metadata": {
    "scrolled": true
   },
   "outputs": [
    {
     "name": "stdout",
     "output_type": "stream",
     "text": [
      "<class 'pandas.core.frame.DataFrame'>\n",
      "RangeIndex: 2439229 entries, 0 to 2439228\n",
      "Data columns (total 5 columns):\n",
      " #   Column     Dtype         \n",
      "---  ------     -----         \n",
      " 0   state      object        \n",
      " 1   date       datetime64[ns]\n",
      " 2   cases      int64         \n",
      " 3   deaths     int64         \n",
      " 4   recovered  int64         \n",
      "dtypes: datetime64[ns](1), int64(3), object(1)\n",
      "memory usage: 93.0+ MB\n"
     ]
    }
   ],
   "source": [
    "#looking into the dataset details again:\n",
    "\n",
    "covid_de_df.info()"
   ]
  },
  {
   "cell_type": "code",
   "execution_count": 14,
   "id": "e5bc17e2",
   "metadata": {},
   "outputs": [],
   "source": [
    "# Let's find out the active Covid cases of Germany\n",
    "\n",
    "covid_de_df[\"active_cases\"] = covid_de_df[\"cases\"] - (covid_de_df[\"recovered\"] + covid_de_df[\"deaths\"])"
   ]
  },
  {
   "cell_type": "code",
   "execution_count": 15,
   "id": "9170e402",
   "metadata": {},
   "outputs": [
    {
     "data": {
      "text/html": [
       "<div>\n",
       "<style scoped>\n",
       "    .dataframe tbody tr th:only-of-type {\n",
       "        vertical-align: middle;\n",
       "    }\n",
       "\n",
       "    .dataframe tbody tr th {\n",
       "        vertical-align: top;\n",
       "    }\n",
       "\n",
       "    .dataframe thead th {\n",
       "        text-align: right;\n",
       "    }\n",
       "</style>\n",
       "<table border=\"1\" class=\"dataframe\">\n",
       "  <thead>\n",
       "    <tr style=\"text-align: right;\">\n",
       "      <th></th>\n",
       "      <th>state</th>\n",
       "      <th>date</th>\n",
       "      <th>cases</th>\n",
       "      <th>deaths</th>\n",
       "      <th>recovered</th>\n",
       "      <th>active_cases</th>\n",
       "    </tr>\n",
       "  </thead>\n",
       "  <tbody>\n",
       "    <tr>\n",
       "      <th>2439224</th>\n",
       "      <td>Thueringen</td>\n",
       "      <td>2022-09-07</td>\n",
       "      <td>1</td>\n",
       "      <td>0</td>\n",
       "      <td>0</td>\n",
       "      <td>1</td>\n",
       "    </tr>\n",
       "    <tr>\n",
       "      <th>2439225</th>\n",
       "      <td>Thueringen</td>\n",
       "      <td>2021-12-01</td>\n",
       "      <td>1</td>\n",
       "      <td>0</td>\n",
       "      <td>1</td>\n",
       "      <td>0</td>\n",
       "    </tr>\n",
       "    <tr>\n",
       "      <th>2439226</th>\n",
       "      <td>Thueringen</td>\n",
       "      <td>2021-12-23</td>\n",
       "      <td>1</td>\n",
       "      <td>0</td>\n",
       "      <td>1</td>\n",
       "      <td>0</td>\n",
       "    </tr>\n",
       "    <tr>\n",
       "      <th>2439227</th>\n",
       "      <td>Thueringen</td>\n",
       "      <td>2022-08-11</td>\n",
       "      <td>1</td>\n",
       "      <td>0</td>\n",
       "      <td>1</td>\n",
       "      <td>0</td>\n",
       "    </tr>\n",
       "    <tr>\n",
       "      <th>2439228</th>\n",
       "      <td>Thueringen</td>\n",
       "      <td>2022-08-24</td>\n",
       "      <td>1</td>\n",
       "      <td>0</td>\n",
       "      <td>0</td>\n",
       "      <td>1</td>\n",
       "    </tr>\n",
       "  </tbody>\n",
       "</table>\n",
       "</div>"
      ],
      "text/plain": [
       "              state       date  cases  deaths  recovered  active_cases\n",
       "2439224  Thueringen 2022-09-07      1       0          0             1\n",
       "2439225  Thueringen 2021-12-01      1       0          1             0\n",
       "2439226  Thueringen 2021-12-23      1       0          1             0\n",
       "2439227  Thueringen 2022-08-11      1       0          1             0\n",
       "2439228  Thueringen 2022-08-24      1       0          0             1"
      ]
     },
     "execution_count": 15,
     "metadata": {},
     "output_type": "execute_result"
    }
   ],
   "source": [
    "#now let's look into the dataset again\n",
    "\n",
    "covid_de_df.tail()"
   ]
  },
  {
   "cell_type": "code",
   "execution_count": 16,
   "id": "7f16fc7d",
   "metadata": {},
   "outputs": [],
   "source": [
    "#now create a pivot table showing the maximum total cases ,deaths, and recovered with respect to state\n",
    "\n",
    "de_statewise_pivot = pd.pivot_table(covid_de_df, values = ([\"cases\", \"recovered\", \"deaths\", \"active_cases\"]), index=\"state\", aggfunc=max)"
   ]
  },
  {
   "cell_type": "code",
   "execution_count": 17,
   "id": "bfa14a39",
   "metadata": {},
   "outputs": [],
   "source": [
    "#Calculate the recovery rate and show this information in the pivot table\n",
    "\n",
    "de_statewise_pivot[\"recovery_rate\"] = (de_statewise_pivot[\"recovered\"] / de_statewise_pivot[\"cases\"])*100"
   ]
  },
  {
   "cell_type": "code",
   "execution_count": 18,
   "id": "c15b7b36",
   "metadata": {},
   "outputs": [],
   "source": [
    "#Calculate the death rate and show this information in the pivtot table\n",
    "\n",
    "de_statewise_pivot[\"death_rate\"] = (de_statewise_pivot[\"deaths\"] / de_statewise_pivot[\"cases\"])*100"
   ]
  },
  {
   "cell_type": "code",
   "execution_count": 19,
   "id": "36a2a9f3",
   "metadata": {},
   "outputs": [],
   "source": [
    "#Sorth the pivot table with respect to total number of cases and in descending order\n",
    "\n",
    "de_statewise_pivot = de_statewise_pivot.sort_values(by = \"cases\", ascending=False)"
   ]
  },
  {
   "cell_type": "code",
   "execution_count": 20,
   "id": "3cf4b7ba",
   "metadata": {},
   "outputs": [
    {
     "data": {
      "text/html": [
       "<style  type=\"text/css\" >\n",
       "#T_0428d_row0_col0{\n",
       "            background-color:  #d9586a;\n",
       "            color:  #000000;\n",
       "        }#T_0428d_row0_col1,#T_0428d_row0_col3,#T_0428d_row1_col2,#T_0428d_row3_col0,#T_0428d_row15_col5{\n",
       "            background-color:  #f0f921;\n",
       "            color:  #000000;\n",
       "        }#T_0428d_row0_col2,#T_0428d_row2_col2{\n",
       "            background-color:  #da5a6a;\n",
       "            color:  #000000;\n",
       "        }#T_0428d_row0_col4,#T_0428d_row0_col5,#T_0428d_row1_col4,#T_0428d_row2_col4,#T_0428d_row3_col4,#T_0428d_row4_col4,#T_0428d_row5_col4,#T_0428d_row6_col4,#T_0428d_row7_col4,#T_0428d_row8_col2,#T_0428d_row8_col4,#T_0428d_row9_col4,#T_0428d_row10_col4,#T_0428d_row11_col0,#T_0428d_row11_col4,#T_0428d_row12_col4,#T_0428d_row13_col4,#T_0428d_row14_col4,#T_0428d_row15_col1,#T_0428d_row15_col3,#T_0428d_row15_col4{\n",
       "            background-color:  #0d0887;\n",
       "            color:  #f1f1f1;\n",
       "        }#T_0428d_row1_col0{\n",
       "            background-color:  #ee7b51;\n",
       "            color:  #000000;\n",
       "        }#T_0428d_row1_col1,#T_0428d_row1_col3{\n",
       "            background-color:  #e4695e;\n",
       "            color:  #000000;\n",
       "        }#T_0428d_row1_col5{\n",
       "            background-color:  #5801a4;\n",
       "            color:  #f1f1f1;\n",
       "        }#T_0428d_row2_col0{\n",
       "            background-color:  #fa9c3c;\n",
       "            color:  #000000;\n",
       "        }#T_0428d_row2_col1,#T_0428d_row2_col3{\n",
       "            background-color:  #dd5e66;\n",
       "            color:  #000000;\n",
       "        }#T_0428d_row2_col5,#T_0428d_row10_col0{\n",
       "            background-color:  #350498;\n",
       "            color:  #f1f1f1;\n",
       "        }#T_0428d_row3_col1,#T_0428d_row3_col3{\n",
       "            background-color:  #be3885;\n",
       "            color:  #f1f1f1;\n",
       "        }#T_0428d_row3_col2,#T_0428d_row12_col2{\n",
       "            background-color:  #aa2395;\n",
       "            color:  #f1f1f1;\n",
       "        }#T_0428d_row3_col5{\n",
       "            background-color:  #2f0596;\n",
       "            color:  #f1f1f1;\n",
       "        }#T_0428d_row4_col0{\n",
       "            background-color:  #ac2694;\n",
       "            color:  #f1f1f1;\n",
       "        }#T_0428d_row4_col1,#T_0428d_row4_col3{\n",
       "            background-color:  #7401a8;\n",
       "            color:  #f1f1f1;\n",
       "        }#T_0428d_row4_col2{\n",
       "            background-color:  #f8df25;\n",
       "            color:  #000000;\n",
       "        }#T_0428d_row4_col5{\n",
       "            background-color:  #b52f8c;\n",
       "            color:  #f1f1f1;\n",
       "        }#T_0428d_row5_col0{\n",
       "            background-color:  #a62098;\n",
       "            color:  #f1f1f1;\n",
       "        }#T_0428d_row5_col1,#T_0428d_row5_col3{\n",
       "            background-color:  #6300a7;\n",
       "            color:  #f1f1f1;\n",
       "        }#T_0428d_row5_col2{\n",
       "            background-color:  #cc4778;\n",
       "            color:  #f1f1f1;\n",
       "        }#T_0428d_row5_col5{\n",
       "            background-color:  #8606a6;\n",
       "            color:  #f1f1f1;\n",
       "        }#T_0428d_row6_col0{\n",
       "            background-color:  #7d03a8;\n",
       "            color:  #f1f1f1;\n",
       "        }#T_0428d_row6_col1,#T_0428d_row6_col3{\n",
       "            background-color:  #6001a6;\n",
       "            color:  #f1f1f1;\n",
       "        }#T_0428d_row6_col2{\n",
       "            background-color:  #f0804e;\n",
       "            color:  #000000;\n",
       "        }#T_0428d_row6_col5{\n",
       "            background-color:  #a82296;\n",
       "            color:  #f1f1f1;\n",
       "        }#T_0428d_row7_col0{\n",
       "            background-color:  #6f00a8;\n",
       "            color:  #f1f1f1;\n",
       "        }#T_0428d_row7_col1,#T_0428d_row7_col3,#T_0428d_row8_col1,#T_0428d_row8_col3{\n",
       "            background-color:  #5002a2;\n",
       "            color:  #f1f1f1;\n",
       "        }#T_0428d_row7_col2,#T_0428d_row9_col2,#T_0428d_row12_col5{\n",
       "            background-color:  #bc3587;\n",
       "            color:  #f1f1f1;\n",
       "        }#T_0428d_row7_col5{\n",
       "            background-color:  #8f0da4;\n",
       "            color:  #f1f1f1;\n",
       "        }#T_0428d_row8_col0{\n",
       "            background-color:  #8104a7;\n",
       "            color:  #f1f1f1;\n",
       "        }#T_0428d_row8_col5{\n",
       "            background-color:  #2c0594;\n",
       "            color:  #f1f1f1;\n",
       "        }#T_0428d_row9_col0{\n",
       "            background-color:  #8004a8;\n",
       "            color:  #f1f1f1;\n",
       "        }#T_0428d_row9_col1,#T_0428d_row9_col3{\n",
       "            background-color:  #4c02a1;\n",
       "            color:  #f1f1f1;\n",
       "        }#T_0428d_row9_col5{\n",
       "            background-color:  #9410a2;\n",
       "            color:  #f1f1f1;\n",
       "        }#T_0428d_row10_col1,#T_0428d_row10_col3{\n",
       "            background-color:  #43039e;\n",
       "            color:  #f1f1f1;\n",
       "        }#T_0428d_row10_col2{\n",
       "            background-color:  #fdac33;\n",
       "            color:  #000000;\n",
       "        }#T_0428d_row10_col5{\n",
       "            background-color:  #df6263;\n",
       "            color:  #000000;\n",
       "        }#T_0428d_row11_col1,#T_0428d_row11_col3{\n",
       "            background-color:  #38049a;\n",
       "            color:  #f1f1f1;\n",
       "        }#T_0428d_row11_col2,#T_0428d_row14_col2{\n",
       "            background-color:  #6600a7;\n",
       "            color:  #f1f1f1;\n",
       "        }#T_0428d_row11_col5{\n",
       "            background-color:  #7201a8;\n",
       "            color:  #f1f1f1;\n",
       "        }#T_0428d_row12_col0{\n",
       "            background-color:  #330597;\n",
       "            color:  #f1f1f1;\n",
       "        }#T_0428d_row12_col1,#T_0428d_row12_col3{\n",
       "            background-color:  #280592;\n",
       "            color:  #f1f1f1;\n",
       "        }#T_0428d_row13_col0{\n",
       "            background-color:  #370499;\n",
       "            color:  #f1f1f1;\n",
       "        }#T_0428d_row13_col1,#T_0428d_row13_col3{\n",
       "            background-color:  #1b068d;\n",
       "            color:  #f1f1f1;\n",
       "        }#T_0428d_row13_col2{\n",
       "            background-color:  #e66c5c;\n",
       "            color:  #000000;\n",
       "        }#T_0428d_row13_col5{\n",
       "            background-color:  #f9973f;\n",
       "            color:  #000000;\n",
       "        }#T_0428d_row14_col0{\n",
       "            background-color:  #5102a3;\n",
       "            color:  #f1f1f1;\n",
       "        }#T_0428d_row14_col1,#T_0428d_row14_col3{\n",
       "            background-color:  #16078a;\n",
       "            color:  #f1f1f1;\n",
       "        }#T_0428d_row14_col5{\n",
       "            background-color:  #a72197;\n",
       "            color:  #f1f1f1;\n",
       "        }#T_0428d_row15_col0{\n",
       "            background-color:  #4e02a2;\n",
       "            color:  #f1f1f1;\n",
       "        }#T_0428d_row15_col2{\n",
       "            background-color:  #f89540;\n",
       "            color:  #000000;\n",
       "        }</style><table id=\"T_0428d_\" ><thead>    <tr>        <th class=\"blank level0\" ></th>        <th class=\"col_heading level0 col0\" >active_cases</th>        <th class=\"col_heading level0 col1\" >cases</th>        <th class=\"col_heading level0 col2\" >deaths</th>        <th class=\"col_heading level0 col3\" >recovered</th>        <th class=\"col_heading level0 col4\" >recovery_rate</th>        <th class=\"col_heading level0 col5\" >death_rate</th>    </tr>    <tr>        <th class=\"index_name level0\" >state</th>        <th class=\"blank\" ></th>        <th class=\"blank\" ></th>        <th class=\"blank\" ></th>        <th class=\"blank\" ></th>        <th class=\"blank\" ></th>        <th class=\"blank\" ></th>    </tr></thead><tbody>\n",
       "                <tr>\n",
       "                        <th id=\"T_0428d_level0_row0\" class=\"row_heading level0 row0\" >Nordrhein-Westfalen</th>\n",
       "                        <td id=\"T_0428d_row0_col0\" class=\"data row0 col0\" >175</td>\n",
       "                        <td id=\"T_0428d_row0_col1\" class=\"data row0 col1\" >2151</td>\n",
       "                        <td id=\"T_0428d_row0_col2\" class=\"data row0 col2\" >14</td>\n",
       "                        <td id=\"T_0428d_row0_col3\" class=\"data row0 col3\" >2151</td>\n",
       "                        <td id=\"T_0428d_row0_col4\" class=\"data row0 col4\" >100.000000</td>\n",
       "                        <td id=\"T_0428d_row0_col5\" class=\"data row0 col5\" >0.650860</td>\n",
       "            </tr>\n",
       "            <tr>\n",
       "                        <th id=\"T_0428d_level0_row1\" class=\"row_heading level0 row1\" >Bayern</th>\n",
       "                        <td id=\"T_0428d_row1_col0\" class=\"data row1 col0\" >202</td>\n",
       "                        <td id=\"T_0428d_row1_col1\" class=\"data row1 col1\" >1432</td>\n",
       "                        <td id=\"T_0428d_row1_col2\" class=\"data row1 col2\" >21</td>\n",
       "                        <td id=\"T_0428d_row1_col3\" class=\"data row1 col3\" >1432</td>\n",
       "                        <td id=\"T_0428d_row1_col4\" class=\"data row1 col4\" >100.000000</td>\n",
       "                        <td id=\"T_0428d_row1_col5\" class=\"data row1 col5\" >1.466480</td>\n",
       "            </tr>\n",
       "            <tr>\n",
       "                        <th id=\"T_0428d_level0_row2\" class=\"row_heading level0 row2\" >Hamburg</th>\n",
       "                        <td id=\"T_0428d_row2_col0\" class=\"data row2 col0\" >225</td>\n",
       "                        <td id=\"T_0428d_row2_col1\" class=\"data row2 col1\" >1369</td>\n",
       "                        <td id=\"T_0428d_row2_col2\" class=\"data row2 col2\" >14</td>\n",
       "                        <td id=\"T_0428d_row2_col3\" class=\"data row2 col3\" >1369</td>\n",
       "                        <td id=\"T_0428d_row2_col4\" class=\"data row2 col4\" >100.000000</td>\n",
       "                        <td id=\"T_0428d_row2_col5\" class=\"data row2 col5\" >1.022644</td>\n",
       "            </tr>\n",
       "            <tr>\n",
       "                        <th id=\"T_0428d_level0_row3\" class=\"row_heading level0 row3\" >Niedersachsen</th>\n",
       "                        <td id=\"T_0428d_row3_col0\" class=\"data row3 col0\" >280</td>\n",
       "                        <td id=\"T_0428d_row3_col1\" class=\"data row3 col1\" >1124</td>\n",
       "                        <td id=\"T_0428d_row3_col2\" class=\"data row3 col2\" >11</td>\n",
       "                        <td id=\"T_0428d_row3_col3\" class=\"data row3 col3\" >1124</td>\n",
       "                        <td id=\"T_0428d_row3_col4\" class=\"data row3 col4\" >100.000000</td>\n",
       "                        <td id=\"T_0428d_row3_col5\" class=\"data row3 col5\" >0.978648</td>\n",
       "            </tr>\n",
       "            <tr>\n",
       "                        <th id=\"T_0428d_level0_row4\" class=\"row_heading level0 row4\" >Sachsen</th>\n",
       "                        <td id=\"T_0428d_row4_col0\" class=\"data row4 col0\" >133</td>\n",
       "                        <td id=\"T_0428d_row4_col1\" class=\"data row4 col1\" >705</td>\n",
       "                        <td id=\"T_0428d_row4_col2\" class=\"data row4 col2\" >20</td>\n",
       "                        <td id=\"T_0428d_row4_col3\" class=\"data row4 col3\" >705</td>\n",
       "                        <td id=\"T_0428d_row4_col4\" class=\"data row4 col4\" >100.000000</td>\n",
       "                        <td id=\"T_0428d_row4_col5\" class=\"data row4 col5\" >2.836879</td>\n",
       "            </tr>\n",
       "            <tr>\n",
       "                        <th id=\"T_0428d_level0_row5\" class=\"row_heading level0 row5\" >Hessen</th>\n",
       "                        <td id=\"T_0428d_row5_col0\" class=\"data row5 col0\" >128</td>\n",
       "                        <td id=\"T_0428d_row5_col1\" class=\"data row5 col1\" >624</td>\n",
       "                        <td id=\"T_0428d_row5_col2\" class=\"data row5 col2\" >13</td>\n",
       "                        <td id=\"T_0428d_row5_col3\" class=\"data row5 col3\" >624</td>\n",
       "                        <td id=\"T_0428d_row5_col4\" class=\"data row5 col4\" >100.000000</td>\n",
       "                        <td id=\"T_0428d_row5_col5\" class=\"data row5 col5\" >2.083333</td>\n",
       "            </tr>\n",
       "            <tr>\n",
       "                        <th id=\"T_0428d_level0_row6\" class=\"row_heading level0 row6\" >Berlin</th>\n",
       "                        <td id=\"T_0428d_row6_col0\" class=\"data row6 col0\" >100</td>\n",
       "                        <td id=\"T_0428d_row6_col1\" class=\"data row6 col1\" >613</td>\n",
       "                        <td id=\"T_0428d_row6_col2\" class=\"data row6 col2\" >16</td>\n",
       "                        <td id=\"T_0428d_row6_col3\" class=\"data row6 col3\" >613</td>\n",
       "                        <td id=\"T_0428d_row6_col4\" class=\"data row6 col4\" >100.000000</td>\n",
       "                        <td id=\"T_0428d_row6_col5\" class=\"data row6 col5\" >2.610114</td>\n",
       "            </tr>\n",
       "            <tr>\n",
       "                        <th id=\"T_0428d_level0_row7\" class=\"row_heading level0 row7\" >Baden-Wuerttemberg</th>\n",
       "                        <td id=\"T_0428d_row7_col0\" class=\"data row7 col0\" >92</td>\n",
       "                        <td id=\"T_0428d_row7_col1\" class=\"data row7 col1\" >539</td>\n",
       "                        <td id=\"T_0428d_row7_col2\" class=\"data row7 col2\" >12</td>\n",
       "                        <td id=\"T_0428d_row7_col3\" class=\"data row7 col3\" >539</td>\n",
       "                        <td id=\"T_0428d_row7_col4\" class=\"data row7 col4\" >100.000000</td>\n",
       "                        <td id=\"T_0428d_row7_col5\" class=\"data row7 col5\" >2.226345</td>\n",
       "            </tr>\n",
       "            <tr>\n",
       "                        <th id=\"T_0428d_level0_row8\" class=\"row_heading level0 row8\" >Bremen</th>\n",
       "                        <td id=\"T_0428d_row8_col0\" class=\"data row8 col0\" >103</td>\n",
       "                        <td id=\"T_0428d_row8_col1\" class=\"data row8 col1\" >536</td>\n",
       "                        <td id=\"T_0428d_row8_col2\" class=\"data row8 col2\" >5</td>\n",
       "                        <td id=\"T_0428d_row8_col3\" class=\"data row8 col3\" >536</td>\n",
       "                        <td id=\"T_0428d_row8_col4\" class=\"data row8 col4\" >100.000000</td>\n",
       "                        <td id=\"T_0428d_row8_col5\" class=\"data row8 col5\" >0.932836</td>\n",
       "            </tr>\n",
       "            <tr>\n",
       "                        <th id=\"T_0428d_level0_row9\" class=\"row_heading level0 row9\" >Schleswig-Holstein</th>\n",
       "                        <td id=\"T_0428d_row9_col0\" class=\"data row9 col0\" >102</td>\n",
       "                        <td id=\"T_0428d_row9_col1\" class=\"data row9 col1\" >528</td>\n",
       "                        <td id=\"T_0428d_row9_col2\" class=\"data row9 col2\" >12</td>\n",
       "                        <td id=\"T_0428d_row9_col3\" class=\"data row9 col3\" >528</td>\n",
       "                        <td id=\"T_0428d_row9_col4\" class=\"data row9 col4\" >100.000000</td>\n",
       "                        <td id=\"T_0428d_row9_col5\" class=\"data row9 col5\" >2.272727</td>\n",
       "            </tr>\n",
       "            <tr>\n",
       "                        <th id=\"T_0428d_level0_row10\" class=\"row_heading level0 row10\" >Sachsen-Anhalt</th>\n",
       "                        <td id=\"T_0428d_row10_col0\" class=\"data row10 col0\" >58</td>\n",
       "                        <td id=\"T_0428d_row10_col1\" class=\"data row10 col1\" >478</td>\n",
       "                        <td id=\"T_0428d_row10_col2\" class=\"data row10 col2\" >18</td>\n",
       "                        <td id=\"T_0428d_row10_col3\" class=\"data row10 col3\" >478</td>\n",
       "                        <td id=\"T_0428d_row10_col4\" class=\"data row10 col4\" >100.000000</td>\n",
       "                        <td id=\"T_0428d_row10_col5\" class=\"data row10 col5\" >3.765690</td>\n",
       "            </tr>\n",
       "            <tr>\n",
       "                        <th id=\"T_0428d_level0_row11\" class=\"row_heading level0 row11\" >Thueringen</th>\n",
       "                        <td id=\"T_0428d_row11_col0\" class=\"data row11 col0\" >41</td>\n",
       "                        <td id=\"T_0428d_row11_col1\" class=\"data row11 col1\" >440</td>\n",
       "                        <td id=\"T_0428d_row11_col2\" class=\"data row11 col2\" >8</td>\n",
       "                        <td id=\"T_0428d_row11_col3\" class=\"data row11 col3\" >440</td>\n",
       "                        <td id=\"T_0428d_row11_col4\" class=\"data row11 col4\" >100.000000</td>\n",
       "                        <td id=\"T_0428d_row11_col5\" class=\"data row11 col5\" >1.818182</td>\n",
       "            </tr>\n",
       "            <tr>\n",
       "                        <th id=\"T_0428d_level0_row12\" class=\"row_heading level0 row12\" >Mecklenburg-Vorpommern</th>\n",
       "                        <td id=\"T_0428d_row12_col0\" class=\"data row12 col0\" >57</td>\n",
       "                        <td id=\"T_0428d_row12_col1\" class=\"data row12 col1\" >371</td>\n",
       "                        <td id=\"T_0428d_row12_col2\" class=\"data row12 col2\" >11</td>\n",
       "                        <td id=\"T_0428d_row12_col3\" class=\"data row12 col3\" >371</td>\n",
       "                        <td id=\"T_0428d_row12_col4\" class=\"data row12 col4\" >100.000000</td>\n",
       "                        <td id=\"T_0428d_row12_col5\" class=\"data row12 col5\" >2.964960</td>\n",
       "            </tr>\n",
       "            <tr>\n",
       "                        <th id=\"T_0428d_level0_row13\" class=\"row_heading level0 row13\" >Rheinland-Pfalz</th>\n",
       "                        <td id=\"T_0428d_row13_col0\" class=\"data row13 col0\" >59</td>\n",
       "                        <td id=\"T_0428d_row13_col1\" class=\"data row13 col1\" >325</td>\n",
       "                        <td id=\"T_0428d_row13_col2\" class=\"data row13 col2\" >15</td>\n",
       "                        <td id=\"T_0428d_row13_col3\" class=\"data row13 col3\" >325</td>\n",
       "                        <td id=\"T_0428d_row13_col4\" class=\"data row13 col4\" >100.000000</td>\n",
       "                        <td id=\"T_0428d_row13_col5\" class=\"data row13 col5\" >4.615385</td>\n",
       "            </tr>\n",
       "            <tr>\n",
       "                        <th id=\"T_0428d_level0_row14\" class=\"row_heading level0 row14\" >Saarland</th>\n",
       "                        <td id=\"T_0428d_row14_col0\" class=\"data row14 col0\" >74</td>\n",
       "                        <td id=\"T_0428d_row14_col1\" class=\"data row14 col1\" >310</td>\n",
       "                        <td id=\"T_0428d_row14_col2\" class=\"data row14 col2\" >8</td>\n",
       "                        <td id=\"T_0428d_row14_col3\" class=\"data row14 col3\" >310</td>\n",
       "                        <td id=\"T_0428d_row14_col4\" class=\"data row14 col4\" >100.000000</td>\n",
       "                        <td id=\"T_0428d_row14_col5\" class=\"data row14 col5\" >2.580645</td>\n",
       "            </tr>\n",
       "            <tr>\n",
       "                        <th id=\"T_0428d_level0_row15\" class=\"row_heading level0 row15\" >Brandenburg</th>\n",
       "                        <td id=\"T_0428d_row15_col0\" class=\"data row15 col0\" >72</td>\n",
       "                        <td id=\"T_0428d_row15_col1\" class=\"data row15 col1\" >288</td>\n",
       "                        <td id=\"T_0428d_row15_col2\" class=\"data row15 col2\" >17</td>\n",
       "                        <td id=\"T_0428d_row15_col3\" class=\"data row15 col3\" >288</td>\n",
       "                        <td id=\"T_0428d_row15_col4\" class=\"data row15 col4\" >100.000000</td>\n",
       "                        <td id=\"T_0428d_row15_col5\" class=\"data row15 col5\" >5.902778</td>\n",
       "            </tr>\n",
       "    </tbody></table>"
      ],
      "text/plain": [
       "<pandas.io.formats.style.Styler at 0x19d9eb26828>"
      ]
     },
     "execution_count": 20,
     "metadata": {},
     "output_type": "execute_result"
    }
   ],
   "source": [
    "#style the pivot table and display it\n",
    "\n",
    "de_statewise_pivot.style.background_gradient(cmap=\"plasma\")"
   ]
  },
  {
   "cell_type": "code",
   "execution_count": 29,
   "id": "ba7d5467",
   "metadata": {},
   "outputs": [],
   "source": [
    "#Let's now find out top 10 states with highest active cases from the first dataset\n",
    "\n",
    "top_10_active_cases = covid_de_df.groupby(by=\"state\").max()[['active_cases']].sort_values(by=\"active_cases\", ascending=False).reset_index()"
   ]
  },
  {
   "cell_type": "code",
   "execution_count": 41,
   "id": "89466df7",
   "metadata": {},
   "outputs": [
    {
     "data": {
      "image/png": "[encoded data removed]",
      "text/plain": [
       "<Figure size 1600x900 with 1 Axes>"
      ]
     },
     "metadata": {},
     "output_type": "display_data"
    }
   ],
   "source": [
    "#Let's create a bar graph to show state vs active cases in Germany\n",
    "\n",
    "fig = plt.figure(figsize=(16,9))\n",
    "plt.title(\"Top 10 states with highest active cases in Germany\", size=24)\n",
    "ax = sns.barplot(data = top_10_active_cases.iloc[:10], y = \"active_cases\", x = \"state\", linewidth=2)\n",
    "plt.xlabel(\"States\", size=16)\n",
    "plt.ylabel(\"Total Active Cases\", size=16)\n",
    "plt.show()\n",
    "\n",
    "\n"
   ]
  },
  {
   "cell_type": "code",
   "execution_count": 31,
   "id": "f126a8ac",
   "metadata": {},
   "outputs": [],
   "source": [
    "#Let's now find out top 10 states with highest death from the first dataset\n",
    "\n",
    "top_10_deaths = covid_de_df.groupby(by=\"state\").max()[['deaths']].sort_values(by=\"deaths\", ascending=False).reset_index()"
   ]
  },
  {
   "cell_type": "code",
   "execution_count": 40,
   "id": "b623a9a0",
   "metadata": {},
   "outputs": [
    {
     "data": {
      "image/png": "[encoded data removed]",
      "text/plain": [
       "<Figure size 1600x900 with 1 Axes>"
      ]
     },
     "metadata": {},
     "output_type": "display_data"
    }
   ],
   "source": [
    "#Let's create a bar graph to show state vs deaths in Germany\n",
    "\n",
    "fig = plt.figure(figsize=(16,9))\n",
    "plt.title(\"Top 10 states with highest deaths in Germany\", size=24)\n",
    "ax = sns.barplot(data = top_10_deaths.iloc[:10], y = \"deaths\", x = \"state\", linewidth=2)\n",
    "plt.xlabel(\"States\", size=16)\n",
    "plt.ylabel(\"Total Death Cases\", size=16)\n",
    "plt.show()"
   ]
  },
  {
   "cell_type": "code",
   "execution_count": 33,
   "id": "c7de1bfc",
   "metadata": {},
   "outputs": [],
   "source": [
    "#Let's now find out top 10 states with highest recovery from the first dataset\n",
    "\n",
    "top_10_recovered = covid_de_df.groupby(by=\"state\").max()[['recovered']].sort_values(by=\"recovered\", ascending=False).reset_index()"
   ]
  },
  {
   "cell_type": "code",
   "execution_count": 39,
   "id": "f556de07",
   "metadata": {},
   "outputs": [
    {
     "data": {
      "image/png": "[encoded data removed]",
      "text/plain": [
       "<Figure size 1600x900 with 1 Axes>"
      ]
     },
     "metadata": {},
     "output_type": "display_data"
    }
   ],
   "source": [
    "#Let's create a bar graph to show state vs recovered in Germany\n",
    "\n",
    "fig = plt.figure(figsize=(16,9))\n",
    "plt.title(\"Top 10 states with highest recovers in Germany\", size=24)\n",
    "ax = sns.barplot(data = top_10_recovered.iloc[:10], y = \"recovered\", x = \"state\", linewidth=2)\n",
    "plt.xlabel(\"States\", size=16)\n",
    "plt.ylabel(\"Total Recovers\", size=16)\n",
    "plt.show()"
   ]
  },
  {
   "cell_type": "code",
   "execution_count": 56,
   "id": "a5b43f37",
   "metadata": {},
   "outputs": [
    {
     "data": {
      "text/html": [
       "<div>\n",
       "<style scoped>\n",
       "    .dataframe tbody tr th:only-of-type {\n",
       "        vertical-align: middle;\n",
       "    }\n",
       "\n",
       "    .dataframe tbody tr th {\n",
       "        vertical-align: top;\n",
       "    }\n",
       "\n",
       "    .dataframe thead th {\n",
       "        text-align: right;\n",
       "    }\n",
       "</style>\n",
       "<table border=\"1\" class=\"dataframe\">\n",
       "  <thead>\n",
       "    <tr style=\"text-align: right;\">\n",
       "      <th></th>\n",
       "      <th>state</th>\n",
       "      <th>date</th>\n",
       "      <th>active_cases</th>\n",
       "    </tr>\n",
       "  </thead>\n",
       "  <tbody>\n",
       "    <tr>\n",
       "      <th>1487694</th>\n",
       "      <td>Niedersachsen</td>\n",
       "      <td>2022-09-02</td>\n",
       "      <td>1</td>\n",
       "    </tr>\n",
       "    <tr>\n",
       "      <th>1487695</th>\n",
       "      <td>Niedersachsen</td>\n",
       "      <td>2022-09-05</td>\n",
       "      <td>5</td>\n",
       "    </tr>\n",
       "    <tr>\n",
       "      <th>1487696</th>\n",
       "      <td>Niedersachsen</td>\n",
       "      <td>2022-09-06</td>\n",
       "      <td>1</td>\n",
       "    </tr>\n",
       "    <tr>\n",
       "      <th>1487697</th>\n",
       "      <td>Niedersachsen</td>\n",
       "      <td>2022-09-07</td>\n",
       "      <td>2</td>\n",
       "    </tr>\n",
       "    <tr>\n",
       "      <th>1487698</th>\n",
       "      <td>Niedersachsen</td>\n",
       "      <td>2022-03-28</td>\n",
       "      <td>0</td>\n",
       "    </tr>\n",
       "  </tbody>\n",
       "</table>\n",
       "</div>"
      ],
      "text/plain": [
       "                 state       date  active_cases\n",
       "1487694  Niedersachsen 2022-09-02             1\n",
       "1487695  Niedersachsen 2022-09-05             5\n",
       "1487696  Niedersachsen 2022-09-06             1\n",
       "1487697  Niedersachsen 2022-09-07             2\n",
       "1487698  Niedersachsen 2022-03-28             0"
      ]
     },
     "execution_count": 56,
     "metadata": {},
     "output_type": "execute_result"
    }
   ],
   "source": [
    "#Let's create a new dataset from the first dataset in order to visualize the lineplot of the columns I'm interested in\n",
    "\n",
    "lineplot_df = covid_de_df[covid_de_df[\"state\"].isin(['Bremen', 'Niedersachsen', 'Bayern', 'Hessen',  'Hamburg'])]\n",
    "lineplot_df = lineplot_df.drop([\"cases\", \"deaths\", \"recovered\"], axis=1)\n",
    "lineplot_df.tail()"
   ]
  },
  {
   "cell_type": "code",
   "execution_count": 62,
   "id": "085b6ffb",
   "metadata": {},
   "outputs": [],
   "source": [
    "# Since we have lots of 0 active cases, let's drop all the 0s and look in to the figure to get more insights\n",
    "\n",
    "lineplot_df['active_cases'] = lineplot_df['active_cases'].replace(0, np.nan)\n",
    "lineplot_df = lineplot_df.dropna(axis=0, subset=['active_cases'])"
   ]
  },
  {
   "cell_type": "code",
   "execution_count": 63,
   "id": "86c75f21",
   "metadata": {},
   "outputs": [
    {
     "name": "stdout",
     "output_type": "stream",
     "text": [
      "<class 'pandas.core.frame.DataFrame'>\n",
      "Int64Index: 29105 entries, 291314 to 1487697\n",
      "Data columns (total 3 columns):\n",
      " #   Column        Non-Null Count  Dtype         \n",
      "---  ------        --------------  -----         \n",
      " 0   state         29105 non-null  object        \n",
      " 1   date          29105 non-null  datetime64[ns]\n",
      " 2   active_cases  29105 non-null  float64       \n",
      "dtypes: datetime64[ns](1), float64(1), object(1)\n",
      "memory usage: 909.5+ KB\n"
     ]
    }
   ],
   "source": [
    "lineplot_df.info()"
   ]
  },
  {
   "cell_type": "code",
   "execution_count": 65,
   "id": "ec74a0b3",
   "metadata": {},
   "outputs": [
    {
     "data": {
      "image/png": "[encoded data removed]",
      "text/plain": [
       "<Figure size 1200x600 with 1 Axes>"
      ]
     },
     "metadata": {},
     "output_type": "display_data"
    }
   ],
   "source": [
    "# Let's now observe the the trend of active cases in Germany over the years\n",
    "\n",
    "fig = plt.figure(figsize=(12, 6))\n",
    "\n",
    "ax = sns.lineplot(y = lineplot_df[\"active_cases\"], x= lineplot_df[\"date\"], hue = lineplot_df[\"state\"])\n",
    "plt.legend(loc='upper left')\n",
    "ax.set_title(\"Active cases of 5 different states in Germany\", size=16)\n",
    "\n",
    "plt.show()"
   ]
  },
  {
   "cell_type": "code",
   "execution_count": 48,
   "id": "65ba661f",
   "metadata": {},
   "outputs": [
    {
     "data": {
      "text/html": [
       "<div>\n",
       "<style scoped>\n",
       "    .dataframe tbody tr th:only-of-type {\n",
       "        vertical-align: middle;\n",
       "    }\n",
       "\n",
       "    .dataframe tbody tr th {\n",
       "        vertical-align: top;\n",
       "    }\n",
       "\n",
       "    .dataframe thead th {\n",
       "        text-align: right;\n",
       "    }\n",
       "</style>\n",
       "<table border=\"1\" class=\"dataframe\">\n",
       "  <thead>\n",
       "    <tr style=\"text-align: right;\">\n",
       "      <th></th>\n",
       "      <th>date</th>\n",
       "      <th>doses</th>\n",
       "      <th>doses_first</th>\n",
       "      <th>doses_second</th>\n",
       "      <th>pfizer_cumul</th>\n",
       "      <th>moderna_cumul</th>\n",
       "      <th>astrazeneca_cumul</th>\n",
       "      <th>persons_first_cumul</th>\n",
       "      <th>persons_full_cumul</th>\n",
       "    </tr>\n",
       "  </thead>\n",
       "  <tbody>\n",
       "    <tr>\n",
       "      <th>0</th>\n",
       "      <td>2020-12-27</td>\n",
       "      <td>24429</td>\n",
       "      <td>24429</td>\n",
       "      <td>0</td>\n",
       "      <td>24420</td>\n",
       "      <td>8</td>\n",
       "      <td>1</td>\n",
       "      <td>24429</td>\n",
       "      <td>0</td>\n",
       "    </tr>\n",
       "    <tr>\n",
       "      <th>1</th>\n",
       "      <td>2020-12-28</td>\n",
       "      <td>18007</td>\n",
       "      <td>18007</td>\n",
       "      <td>0</td>\n",
       "      <td>42425</td>\n",
       "      <td>9</td>\n",
       "      <td>2</td>\n",
       "      <td>42436</td>\n",
       "      <td>0</td>\n",
       "    </tr>\n",
       "    <tr>\n",
       "      <th>2</th>\n",
       "      <td>2020-12-29</td>\n",
       "      <td>50065</td>\n",
       "      <td>50065</td>\n",
       "      <td>0</td>\n",
       "      <td>92489</td>\n",
       "      <td>9</td>\n",
       "      <td>3</td>\n",
       "      <td>92501</td>\n",
       "      <td>0</td>\n",
       "    </tr>\n",
       "    <tr>\n",
       "      <th>3</th>\n",
       "      <td>2020-12-30</td>\n",
       "      <td>64088</td>\n",
       "      <td>64088</td>\n",
       "      <td>0</td>\n",
       "      <td>156576</td>\n",
       "      <td>10</td>\n",
       "      <td>3</td>\n",
       "      <td>156589</td>\n",
       "      <td>0</td>\n",
       "    </tr>\n",
       "    <tr>\n",
       "      <th>4</th>\n",
       "      <td>2020-12-31</td>\n",
       "      <td>49939</td>\n",
       "      <td>49939</td>\n",
       "      <td>0</td>\n",
       "      <td>206513</td>\n",
       "      <td>12</td>\n",
       "      <td>3</td>\n",
       "      <td>206528</td>\n",
       "      <td>0</td>\n",
       "    </tr>\n",
       "  </tbody>\n",
       "</table>\n",
       "</div>"
      ],
      "text/plain": [
       "         date  doses  doses_first  doses_second  pfizer_cumul  moderna_cumul  \\\n",
       "0  2020-12-27  24429        24429             0         24420              8   \n",
       "1  2020-12-28  18007        18007             0         42425              9   \n",
       "2  2020-12-29  50065        50065             0         92489              9   \n",
       "3  2020-12-30  64088        64088             0        156576             10   \n",
       "4  2020-12-31  49939        49939             0        206513             12   \n",
       "\n",
       "   astrazeneca_cumul  persons_first_cumul  persons_full_cumul  \n",
       "0                  1                24429                   0  \n",
       "1                  2                42436                   0  \n",
       "2                  3                92501                   0  \n",
       "3                  3               156589                   0  \n",
       "4                  3               206528                   0  "
      ]
     },
     "execution_count": 48,
     "metadata": {},
     "output_type": "execute_result"
    }
   ],
   "source": [
    "#Let's look into the other dataset\n",
    "\n",
    "covidvac_de_df.head()"
   ]
  },
  {
   "cell_type": "code",
   "execution_count": 66,
   "id": "d35cb056",
   "metadata": {},
   "outputs": [
    {
     "name": "stdout",
     "output_type": "stream",
     "text": [
      "<class 'pandas.core.frame.DataFrame'>\n",
      "RangeIndex: 622 entries, 0 to 621\n",
      "Data columns (total 9 columns):\n",
      " #   Column               Non-Null Count  Dtype \n",
      "---  ------               --------------  ----- \n",
      " 0   date                 622 non-null    object\n",
      " 1   doses                622 non-null    int64 \n",
      " 2   doses_first          622 non-null    int64 \n",
      " 3   doses_second         622 non-null    int64 \n",
      " 4   pfizer_cumul         622 non-null    int64 \n",
      " 5   moderna_cumul        622 non-null    int64 \n",
      " 6   astrazeneca_cumul    622 non-null    int64 \n",
      " 7   persons_first_cumul  622 non-null    int64 \n",
      " 8   persons_full_cumul   622 non-null    int64 \n",
      "dtypes: int64(8), object(1)\n",
      "memory usage: 43.9+ KB\n"
     ]
    }
   ],
   "source": [
    "covidvac_de_df.info()"
   ]
  },
  {
   "cell_type": "code",
   "execution_count": 67,
   "id": "0868eb04",
   "metadata": {},
   "outputs": [
    {
     "data": {
      "text/plain": [
       "date                   0\n",
       "doses                  0\n",
       "doses_first            0\n",
       "doses_second           0\n",
       "pfizer_cumul           0\n",
       "moderna_cumul          0\n",
       "astrazeneca_cumul      0\n",
       "persons_first_cumul    0\n",
       "persons_full_cumul     0\n",
       "dtype: int64"
      ]
     },
     "execution_count": 67,
     "metadata": {},
     "output_type": "execute_result"
    }
   ],
   "source": [
    "#Let's check if our dataset contains any null values or not\n",
    "\n",
    "covidvac_de_df.isnull().sum()"
   ]
  },
  {
   "cell_type": "code",
   "execution_count": 68,
   "id": "c1f4da20",
   "metadata": {},
   "outputs": [],
   "source": [
    "#Changing the data type of date from object to datetime\n",
    "\n",
    "covidvac_de_df[\"date\"] = pd.to_datetime(covidvac_de_df[\"date\"], format='%Y-%m-%d')"
   ]
  },
  {
   "cell_type": "code",
   "execution_count": 69,
   "id": "673d838c",
   "metadata": {},
   "outputs": [
    {
     "name": "stdout",
     "output_type": "stream",
     "text": [
      "<class 'pandas.core.frame.DataFrame'>\n",
      "RangeIndex: 622 entries, 0 to 621\n",
      "Data columns (total 9 columns):\n",
      " #   Column               Non-Null Count  Dtype         \n",
      "---  ------               --------------  -----         \n",
      " 0   date                 622 non-null    datetime64[ns]\n",
      " 1   doses                622 non-null    int64         \n",
      " 2   doses_first          622 non-null    int64         \n",
      " 3   doses_second         622 non-null    int64         \n",
      " 4   pfizer_cumul         622 non-null    int64         \n",
      " 5   moderna_cumul        622 non-null    int64         \n",
      " 6   astrazeneca_cumul    622 non-null    int64         \n",
      " 7   persons_first_cumul  622 non-null    int64         \n",
      " 8   persons_full_cumul   622 non-null    int64         \n",
      "dtypes: datetime64[ns](1), int64(8)\n",
      "memory usage: 43.9 KB\n"
     ]
    }
   ],
   "source": [
    "covidvac_de_df.info()"
   ]
  },
  {
   "cell_type": "code",
   "execution_count": 70,
   "id": "55479714",
   "metadata": {},
   "outputs": [
    {
     "data": {
      "text/html": [
       "<div>\n",
       "<style scoped>\n",
       "    .dataframe tbody tr th:only-of-type {\n",
       "        vertical-align: middle;\n",
       "    }\n",
       "\n",
       "    .dataframe tbody tr th {\n",
       "        vertical-align: top;\n",
       "    }\n",
       "\n",
       "    .dataframe thead th {\n",
       "        text-align: right;\n",
       "    }\n",
       "</style>\n",
       "<table border=\"1\" class=\"dataframe\">\n",
       "  <thead>\n",
       "    <tr style=\"text-align: right;\">\n",
       "      <th></th>\n",
       "      <th>date</th>\n",
       "      <th>doses</th>\n",
       "      <th>doses_first</th>\n",
       "      <th>doses_second</th>\n",
       "      <th>pfizer_cumul</th>\n",
       "      <th>moderna_cumul</th>\n",
       "      <th>astrazeneca_cumul</th>\n",
       "      <th>persons_first_cumul</th>\n",
       "      <th>persons_full_cumul</th>\n",
       "    </tr>\n",
       "  </thead>\n",
       "  <tbody>\n",
       "    <tr>\n",
       "      <th>0</th>\n",
       "      <td>2020-12-27</td>\n",
       "      <td>24429</td>\n",
       "      <td>24429</td>\n",
       "      <td>0</td>\n",
       "      <td>24420</td>\n",
       "      <td>8</td>\n",
       "      <td>1</td>\n",
       "      <td>24429</td>\n",
       "      <td>0</td>\n",
       "    </tr>\n",
       "    <tr>\n",
       "      <th>1</th>\n",
       "      <td>2020-12-28</td>\n",
       "      <td>18007</td>\n",
       "      <td>18007</td>\n",
       "      <td>0</td>\n",
       "      <td>42425</td>\n",
       "      <td>9</td>\n",
       "      <td>2</td>\n",
       "      <td>42436</td>\n",
       "      <td>0</td>\n",
       "    </tr>\n",
       "    <tr>\n",
       "      <th>2</th>\n",
       "      <td>2020-12-29</td>\n",
       "      <td>50065</td>\n",
       "      <td>50065</td>\n",
       "      <td>0</td>\n",
       "      <td>92489</td>\n",
       "      <td>9</td>\n",
       "      <td>3</td>\n",
       "      <td>92501</td>\n",
       "      <td>0</td>\n",
       "    </tr>\n",
       "    <tr>\n",
       "      <th>3</th>\n",
       "      <td>2020-12-30</td>\n",
       "      <td>64088</td>\n",
       "      <td>64088</td>\n",
       "      <td>0</td>\n",
       "      <td>156576</td>\n",
       "      <td>10</td>\n",
       "      <td>3</td>\n",
       "      <td>156589</td>\n",
       "      <td>0</td>\n",
       "    </tr>\n",
       "    <tr>\n",
       "      <th>4</th>\n",
       "      <td>2020-12-31</td>\n",
       "      <td>49939</td>\n",
       "      <td>49939</td>\n",
       "      <td>0</td>\n",
       "      <td>206513</td>\n",
       "      <td>12</td>\n",
       "      <td>3</td>\n",
       "      <td>206528</td>\n",
       "      <td>0</td>\n",
       "    </tr>\n",
       "  </tbody>\n",
       "</table>\n",
       "</div>"
      ],
      "text/plain": [
       "        date  doses  doses_first  doses_second  pfizer_cumul  moderna_cumul  \\\n",
       "0 2020-12-27  24429        24429             0         24420              8   \n",
       "1 2020-12-28  18007        18007             0         42425              9   \n",
       "2 2020-12-29  50065        50065             0         92489              9   \n",
       "3 2020-12-30  64088        64088             0        156576             10   \n",
       "4 2020-12-31  49939        49939             0        206513             12   \n",
       "\n",
       "   astrazeneca_cumul  persons_first_cumul  persons_full_cumul  \n",
       "0                  1                24429                   0  \n",
       "1                  2                42436                   0  \n",
       "2                  3                92501                   0  \n",
       "3                  3               156589                   0  \n",
       "4                  3               206528                   0  "
      ]
     },
     "execution_count": 70,
     "metadata": {},
     "output_type": "execute_result"
    }
   ],
   "source": [
    "covidvac_de_df.head()"
   ]
  },
  {
   "cell_type": "code",
   "execution_count": 74,
   "id": "0990bbed",
   "metadata": {},
   "outputs": [
    {
     "data": {
      "application/vnd.plotly.v1+json": {
       "config": {
        "plotlyServerURL": "https://plot.ly"
       },
       "data": [
        {
         "domain": {
          "x": [
           0,
           1
          ],
          "y": [
           0,
           1
          ]
         },
         "hovertemplate": "label=%{label}<br>value=%{value}<extra></extra>",
         "labels": [
          "Pfizer",
          "Moderna",
          "Astrazeneca"
         ],
         "legendgroup": "",
         "name": "",
         "showlegend": true,
         "type": "pie",
         "values": [
          136750751,
          31473301,
          12796852
         ]
        }
       ],
       "layout": {
        "legend": {
         "tracegroupgap": 0
        },
        "template": {
         "data": {
          "bar": [
           {
            "error_x": {
             "color": "#2a3f5f"
            },
            "error_y": {
             "color": "#2a3f5f"
            },
            "marker": {
             "line": {
              "color": "#E5ECF6",
              "width": 0.5
             },
             "pattern": {
              "fillmode": "overlay",
              "size": 10,
              "solidity": 0.2
             }
            },
            "type": "bar"
           }
          ],
          "barpolar": [
           {
            "marker": {
             "line": {
              "color": "#E5ECF6",
              "width": 0.5
             },
             "pattern": {
              "fillmode": "overlay",
              "size": 10,
              "solidity": 0.2
             }
            },
            "type": "barpolar"
           }
          ],
          "carpet": [
           {
            "aaxis": {
             "endlinecolor": "#2a3f5f",
             "gridcolor": "white",
             "linecolor": "white",
             "minorgridcolor": "white",
             "startlinecolor": "#2a3f5f"
            },
            "baxis": {
             "endlinecolor": "#2a3f5f",
             "gridcolor": "white",
             "linecolor": "white",
             "minorgridcolor": "white",
             "startlinecolor": "#2a3f5f"
            },
            "type": "carpet"
           }
          ],
          "choropleth": [
           {
            "colorbar": {
             "outlinewidth": 0,
             "ticks": ""
            },
            "type": "choropleth"
           }
          ],
          "contour": [
           {
            "colorbar": {
             "outlinewidth": 0,
             "ticks": ""
            },
            "colorscale": [
             [
              0,
              "#0d0887"
             ],
             [
              0.1111111111111111,
              "#46039f"
             ],
             [
              0.2222222222222222,
              "#7201a8"
             ],
             [
              0.3333333333333333,
              "#9c179e"
             ],
             [
              0.4444444444444444,
              "#bd3786"
             ],
             [
              0.5555555555555556,
              "#d8576b"
             ],
             [
              0.6666666666666666,
              "#ed7953"
             ],
             [
              0.7777777777777778,
              "#fb9f3a"
             ],
             [
              0.8888888888888888,
              "#fdca26"
             ],
             [
              1,
              "#f0f921"
             ]
            ],
            "type": "contour"
           }
          ],
          "contourcarpet": [
           {
            "colorbar": {
             "outlinewidth": 0,
             "ticks": ""
            },
            "type": "contourcarpet"
           }
          ],
          "heatmap": [
           {
            "colorbar": {
             "outlinewidth": 0,
             "ticks": ""
            },
            "colorscale": [
             [
              0,
              "#0d0887"
             ],
             [
              0.1111111111111111,
              "#46039f"
             ],
             [
              0.2222222222222222,
              "#7201a8"
             ],
             [
              0.3333333333333333,
              "#9c179e"
             ],
             [
              0.4444444444444444,
              "#bd3786"
             ],
             [
              0.5555555555555556,
              "#d8576b"
             ],
             [
              0.6666666666666666,
              "#ed7953"
             ],
             [
              0.7777777777777778,
              "#fb9f3a"
             ],
             [
              0.8888888888888888,
              "#fdca26"
             ],
             [
              1,
              "#f0f921"
             ]
            ],
            "type": "heatmap"
           }
          ],
          "heatmapgl": [
           {
            "colorbar": {
             "outlinewidth": 0,
             "ticks": ""
            },
            "colorscale": [
             [
              0,
              "#0d0887"
             ],
             [
              0.1111111111111111,
              "#46039f"
             ],
             [
              0.2222222222222222,
              "#7201a8"
             ],
             [
              0.3333333333333333,
              "#9c179e"
             ],
             [
              0.4444444444444444,
              "#bd3786"
             ],
             [
              0.5555555555555556,
              "#d8576b"
             ],
             [
              0.6666666666666666,
              "#ed7953"
             ],
             [
              0.7777777777777778,
              "#fb9f3a"
             ],
             [
              0.8888888888888888,
              "#fdca26"
             ],
             [
              1,
              "#f0f921"
             ]
            ],
            "type": "heatmapgl"
           }
          ],
          "histogram": [
           {
            "marker": {
             "pattern": {
              "fillmode": "overlay",
              "size": 10,
              "solidity": 0.2
             }
            },
            "type": "histogram"
           }
          ],
          "histogram2d": [
           {
            "colorbar": {
             "outlinewidth": 0,
             "ticks": ""
            },
            "colorscale": [
             [
              0,
              "#0d0887"
             ],
             [
              0.1111111111111111,
              "#46039f"
             ],
             [
              0.2222222222222222,
              "#7201a8"
             ],
             [
              0.3333333333333333,
              "#9c179e"
             ],
             [
              0.4444444444444444,
              "#bd3786"
             ],
             [
              0.5555555555555556,
              "#d8576b"
             ],
             [
              0.6666666666666666,
              "#ed7953"
             ],
             [
              0.7777777777777778,
              "#fb9f3a"
             ],
             [
              0.8888888888888888,
              "#fdca26"
             ],
             [
              1,
              "#f0f921"
             ]
            ],
            "type": "histogram2d"
           }
          ],
          "histogram2dcontour": [
           {
            "colorbar": {
             "outlinewidth": 0,
             "ticks": ""
            },
            "colorscale": [
             [
              0,
              "#0d0887"
             ],
             [
              0.1111111111111111,
              "#46039f"
             ],
             [
              0.2222222222222222,
              "#7201a8"
             ],
             [
              0.3333333333333333,
              "#9c179e"
             ],
             [
              0.4444444444444444,
              "#bd3786"
             ],
             [
              0.5555555555555556,
              "#d8576b"
             ],
             [
              0.6666666666666666,
              "#ed7953"
             ],
             [
              0.7777777777777778,
              "#fb9f3a"
             ],
             [
              0.8888888888888888,
              "#fdca26"
             ],
             [
              1,
              "#f0f921"
             ]
            ],
            "type": "histogram2dcontour"
           }
          ],
          "mesh3d": [
           {
            "colorbar": {
             "outlinewidth": 0,
             "ticks": ""
            },
            "type": "mesh3d"
           }
          ],
          "parcoords": [
           {
            "line": {
             "colorbar": {
              "outlinewidth": 0,
              "ticks": ""
             }
            },
            "type": "parcoords"
           }
          ],
          "pie": [
           {
            "automargin": true,
            "type": "pie"
           }
          ],
          "scatter": [
           {
            "fillpattern": {
             "fillmode": "overlay",
             "size": 10,
             "solidity": 0.2
            },
            "type": "scatter"
           }
          ],
          "scatter3d": [
           {
            "line": {
             "colorbar": {
              "outlinewidth": 0,
              "ticks": ""
             }
            },
            "marker": {
             "colorbar": {
              "outlinewidth": 0,
              "ticks": ""
             }
            },
            "type": "scatter3d"
           }
          ],
          "scattercarpet": [
           {
            "marker": {
             "colorbar": {
              "outlinewidth": 0,
              "ticks": ""
             }
            },
            "type": "scattercarpet"
           }
          ],
          "scattergeo": [
           {
            "marker": {
             "colorbar": {
              "outlinewidth": 0,
              "ticks": ""
             }
            },
            "type": "scattergeo"
           }
          ],
          "scattergl": [
           {
            "marker": {
             "colorbar": {
              "outlinewidth": 0,
              "ticks": ""
             }
            },
            "type": "scattergl"
           }
          ],
          "scattermapbox": [
           {
            "marker": {
             "colorbar": {
              "outlinewidth": 0,
              "ticks": ""
             }
            },
            "type": "scattermapbox"
           }
          ],
          "scatterpolar": [
           {
            "marker": {
             "colorbar": {
              "outlinewidth": 0,
              "ticks": ""
             }
            },
            "type": "scatterpolar"
           }
          ],
          "scatterpolargl": [
           {
            "marker": {
             "colorbar": {
              "outlinewidth": 0,
              "ticks": ""
             }
            },
            "type": "scatterpolargl"
           }
          ],
          "scatterternary": [
           {
            "marker": {
             "colorbar": {
              "outlinewidth": 0,
              "ticks": ""
             }
            },
            "type": "scatterternary"
           }
          ],
          "surface": [
           {
            "colorbar": {
             "outlinewidth": 0,
             "ticks": ""
            },
            "colorscale": [
             [
              0,
              "#0d0887"
             ],
             [
              0.1111111111111111,
              "#46039f"
             ],
             [
              0.2222222222222222,
              "#7201a8"
             ],
             [
              0.3333333333333333,
              "#9c179e"
             ],
             [
              0.4444444444444444,
              "#bd3786"
             ],
             [
              0.5555555555555556,
              "#d8576b"
             ],
             [
              0.6666666666666666,
              "#ed7953"
             ],
             [
              0.7777777777777778,
              "#fb9f3a"
             ],
             [
              0.8888888888888888,
              "#fdca26"
             ],
             [
              1,
              "#f0f921"
             ]
            ],
            "type": "surface"
           }
          ],
          "table": [
           {
            "cells": {
             "fill": {
              "color": "#EBF0F8"
             },
             "line": {
              "color": "white"
             }
            },
            "header": {
             "fill": {
              "color": "#C8D4E3"
             },
             "line": {
              "color": "white"
             }
            },
            "type": "table"
           }
          ]
         },
         "layout": {
          "annotationdefaults": {
           "arrowcolor": "#2a3f5f",
           "arrowhead": 0,
           "arrowwidth": 1
          },
          "autotypenumbers": "strict",
          "coloraxis": {
           "colorbar": {
            "outlinewidth": 0,
            "ticks": ""
           }
          },
          "colorscale": {
           "diverging": [
            [
             0,
             "#8e0152"
            ],
            [
             0.1,
             "#c51b7d"
            ],
            [
             0.2,
             "#de77ae"
            ],
            [
             0.3,
             "#f1b6da"
            ],
            [
             0.4,
             "#fde0ef"
            ],
            [
             0.5,
             "#f7f7f7"
            ],
            [
             0.6,
             "#e6f5d0"
            ],
            [
             0.7,
             "#b8e186"
            ],
            [
             0.8,
             "#7fbc41"
            ],
            [
             0.9,
             "#4d9221"
            ],
            [
             1,
             "#276419"
            ]
           ],
           "sequential": [
            [
             0,
             "#0d0887"
            ],
            [
             0.1111111111111111,
             "#46039f"
            ],
            [
             0.2222222222222222,
             "#7201a8"
            ],
            [
             0.3333333333333333,
             "#9c179e"
            ],
            [
             0.4444444444444444,
             "#bd3786"
            ],
            [
             0.5555555555555556,
             "#d8576b"
            ],
            [
             0.6666666666666666,
             "#ed7953"
            ],
            [
             0.7777777777777778,
             "#fb9f3a"
            ],
            [
             0.8888888888888888,
             "#fdca26"
            ],
            [
             1,
             "#f0f921"
            ]
           ],
           "sequentialminus": [
            [
             0,
             "#0d0887"
            ],
            [
             0.1111111111111111,
             "#46039f"
            ],
            [
             0.2222222222222222,
             "#7201a8"
            ],
            [
             0.3333333333333333,
             "#9c179e"
            ],
            [
             0.4444444444444444,
             "#bd3786"
            ],
            [
             0.5555555555555556,
             "#d8576b"
            ],
            [
             0.6666666666666666,
             "#ed7953"
            ],
            [
             0.7777777777777778,
             "#fb9f3a"
            ],
            [
             0.8888888888888888,
             "#fdca26"
            ],
            [
             1,
             "#f0f921"
            ]
           ]
          },
          "colorway": [
           "#636efa",
           "#EF553B",
           "#00cc96",
           "#ab63fa",
           "#FFA15A",
           "#19d3f3",
           "#FF6692",
           "#B6E880",
           "#FF97FF",
           "#FECB52"
          ],
          "font": {
           "color": "#2a3f5f"
          },
          "geo": {
           "bgcolor": "white",
           "lakecolor": "white",
           "landcolor": "#E5ECF6",
           "showlakes": true,
           "showland": true,
           "subunitcolor": "white"
          },
          "hoverlabel": {
           "align": "left"
          },
          "hovermode": "closest",
          "mapbox": {
           "style": "light"
          },
          "paper_bgcolor": "white",
          "plot_bgcolor": "#E5ECF6",
          "polar": {
           "angularaxis": {
            "gridcolor": "white",
            "linecolor": "white",
            "ticks": ""
           },
           "bgcolor": "#E5ECF6",
           "radialaxis": {
            "gridcolor": "white",
            "linecolor": "white",
            "ticks": ""
           }
          },
          "scene": {
           "xaxis": {
            "backgroundcolor": "#E5ECF6",
            "gridcolor": "white",
            "gridwidth": 2,
            "linecolor": "white",
            "showbackground": true,
            "ticks": "",
            "zerolinecolor": "white"
           },
           "yaxis": {
            "backgroundcolor": "#E5ECF6",
            "gridcolor": "white",
            "gridwidth": 2,
            "linecolor": "white",
            "showbackground": true,
            "ticks": "",
            "zerolinecolor": "white"
           },
           "zaxis": {
            "backgroundcolor": "#E5ECF6",
            "gridcolor": "white",
            "gridwidth": 2,
            "linecolor": "white",
            "showbackground": true,
            "ticks": "",
            "zerolinecolor": "white"
           }
          },
          "shapedefaults": {
           "line": {
            "color": "#2a3f5f"
           }
          },
          "ternary": {
           "aaxis": {
            "gridcolor": "white",
            "linecolor": "white",
            "ticks": ""
           },
           "baxis": {
            "gridcolor": "white",
            "linecolor": "white",
            "ticks": ""
           },
           "bgcolor": "#E5ECF6",
           "caxis": {
            "gridcolor": "white",
            "linecolor": "white",
            "ticks": ""
           }
          },
          "title": {
           "x": 0.05
          },
          "xaxis": {
           "automargin": true,
           "gridcolor": "white",
           "linecolor": "white",
           "ticks": "",
           "title": {
            "standoff": 15
           },
           "zerolinecolor": "white",
           "zerolinewidth": 2
          },
          "yaxis": {
           "automargin": true,
           "gridcolor": "white",
           "linecolor": "white",
           "ticks": "",
           "title": {
            "standoff": 15
           },
           "zerolinecolor": "white",
           "zerolinewidth": 2
          }
         }
        },
        "title": {
         "text": "Pfizer vs Moderna vs Astrazeneca"
        }
       }
      },
      "text/html": [
       "<div>                            <div id=\"2e0cbb4b-4a3e-44fb-8847-42baccabc290\" class=\"plotly-graph-div\" style=\"height:525px; width:100%;\"></div>            <script type=\"text/javascript\">                require([\"plotly\"], function(Plotly) {                    window.PLOTLYENV=window.PLOTLYENV || {};                                    if (document.getElementById(\"2e0cbb4b-4a3e-44fb-8847-42baccabc290\")) {                    Plotly.newPlot(                        \"2e0cbb4b-4a3e-44fb-8847-42baccabc290\",                        [{\"domain\":{\"x\":[0.0,1.0],\"y\":[0.0,1.0]},\"hovertemplate\":\"label=%{label}<br>value=%{value}<extra></extra>\",\"labels\":[\"Pfizer\",\"Moderna\",\"Astrazeneca\"],\"legendgroup\":\"\",\"name\":\"\",\"showlegend\":true,\"values\":[136750751,31473301,12796852],\"type\":\"pie\"}],                        {\"template\":{\"data\":{\"histogram2dcontour\":[{\"type\":\"histogram2dcontour\",\"colorbar\":{\"outlinewidth\":0,\"ticks\":\"\"},\"colorscale\":[[0.0,\"#0d0887\"],[0.1111111111111111,\"#46039f\"],[0.2222222222222222,\"#7201a8\"],[0.3333333333333333,\"#9c179e\"],[0.4444444444444444,\"#bd3786\"],[0.5555555555555556,\"#d8576b\"],[0.6666666666666666,\"#ed7953\"],[0.7777777777777778,\"#fb9f3a\"],[0.8888888888888888,\"#fdca26\"],[1.0,\"#f0f921\"]]}],\"choropleth\":[{\"type\":\"choropleth\",\"colorbar\":{\"outlinewidth\":0,\"ticks\":\"\"}}],\"histogram2d\":[{\"type\":\"histogram2d\",\"colorbar\":{\"outlinewidth\":0,\"ticks\":\"\"},\"colorscale\":[[0.0,\"#0d0887\"],[0.1111111111111111,\"#46039f\"],[0.2222222222222222,\"#7201a8\"],[0.3333333333333333,\"#9c179e\"],[0.4444444444444444,\"#bd3786\"],[0.5555555555555556,\"#d8576b\"],[0.6666666666666666,\"#ed7953\"],[0.7777777777777778,\"#fb9f3a\"],[0.8888888888888888,\"#fdca26\"],[1.0,\"#f0f921\"]]}],\"heatmap\":[{\"type\":\"heatmap\",\"colorbar\":{\"outlinewidth\":0,\"ticks\":\"\"},\"colorscale\":[[0.0,\"#0d0887\"],[0.1111111111111111,\"#46039f\"],[0.2222222222222222,\"#7201a8\"],[0.3333333333333333,\"#9c179e\"],[0.4444444444444444,\"#bd3786\"],[0.5555555555555556,\"#d8576b\"],[0.6666666666666666,\"#ed7953\"],[0.7777777777777778,\"#fb9f3a\"],[0.8888888888888888,\"#fdca26\"],[1.0,\"#f0f921\"]]}],\"heatmapgl\":[{\"type\":\"heatmapgl\",\"colorbar\":{\"outlinewidth\":0,\"ticks\":\"\"},\"colorscale\":[[0.0,\"#0d0887\"],[0.1111111111111111,\"#46039f\"],[0.2222222222222222,\"#7201a8\"],[0.3333333333333333,\"#9c179e\"],[0.4444444444444444,\"#bd3786\"],[0.5555555555555556,\"#d8576b\"],[0.6666666666666666,\"#ed7953\"],[0.7777777777777778,\"#fb9f3a\"],[0.8888888888888888,\"#fdca26\"],[1.0,\"#f0f921\"]]}],\"contourcarpet\":[{\"type\":\"contourcarpet\",\"colorbar\":{\"outlinewidth\":0,\"ticks\":\"\"}}],\"contour\":[{\"type\":\"contour\",\"colorbar\":{\"outlinewidth\":0,\"ticks\":\"\"},\"colorscale\":[[0.0,\"#0d0887\"],[0.1111111111111111,\"#46039f\"],[0.2222222222222222,\"#7201a8\"],[0.3333333333333333,\"#9c179e\"],[0.4444444444444444,\"#bd3786\"],[0.5555555555555556,\"#d8576b\"],[0.6666666666666666,\"#ed7953\"],[0.7777777777777778,\"#fb9f3a\"],[0.8888888888888888,\"#fdca26\"],[1.0,\"#f0f921\"]]}],\"surface\":[{\"type\":\"surface\",\"colorbar\":{\"outlinewidth\":0,\"ticks\":\"\"},\"colorscale\":[[0.0,\"#0d0887\"],[0.1111111111111111,\"#46039f\"],[0.2222222222222222,\"#7201a8\"],[0.3333333333333333,\"#9c179e\"],[0.4444444444444444,\"#bd3786\"],[0.5555555555555556,\"#d8576b\"],[0.6666666666666666,\"#ed7953\"],[0.7777777777777778,\"#fb9f3a\"],[0.8888888888888888,\"#fdca26\"],[1.0,\"#f0f921\"]]}],\"mesh3d\":[{\"type\":\"mesh3d\",\"colorbar\":{\"outlinewidth\":0,\"ticks\":\"\"}}],\"scatter\":[{\"fillpattern\":{\"fillmode\":\"overlay\",\"size\":10,\"solidity\":0.2},\"type\":\"scatter\"}],\"parcoords\":[{\"type\":\"parcoords\",\"line\":{\"colorbar\":{\"outlinewidth\":0,\"ticks\":\"\"}}}],\"scatterpolargl\":[{\"type\":\"scatterpolargl\",\"marker\":{\"colorbar\":{\"outlinewidth\":0,\"ticks\":\"\"}}}],\"bar\":[{\"error_x\":{\"color\":\"#2a3f5f\"},\"error_y\":{\"color\":\"#2a3f5f\"},\"marker\":{\"line\":{\"color\":\"#E5ECF6\",\"width\":0.5},\"pattern\":{\"fillmode\":\"overlay\",\"size\":10,\"solidity\":0.2}},\"type\":\"bar\"}],\"scattergeo\":[{\"type\":\"scattergeo\",\"marker\":{\"colorbar\":{\"outlinewidth\":0,\"ticks\":\"\"}}}],\"scatterpolar\":[{\"type\":\"scatterpolar\",\"marker\":{\"colorbar\":{\"outlinewidth\":0,\"ticks\":\"\"}}}],\"histogram\":[{\"marker\":{\"pattern\":{\"fillmode\":\"overlay\",\"size\":10,\"solidity\":0.2}},\"type\":\"histogram\"}],\"scattergl\":[{\"type\":\"scattergl\",\"marker\":{\"colorbar\":{\"outlinewidth\":0,\"ticks\":\"\"}}}],\"scatter3d\":[{\"type\":\"scatter3d\",\"line\":{\"colorbar\":{\"outlinewidth\":0,\"ticks\":\"\"}},\"marker\":{\"colorbar\":{\"outlinewidth\":0,\"ticks\":\"\"}}}],\"scattermapbox\":[{\"type\":\"scattermapbox\",\"marker\":{\"colorbar\":{\"outlinewidth\":0,\"ticks\":\"\"}}}],\"scatterternary\":[{\"type\":\"scatterternary\",\"marker\":{\"colorbar\":{\"outlinewidth\":0,\"ticks\":\"\"}}}],\"scattercarpet\":[{\"type\":\"scattercarpet\",\"marker\":{\"colorbar\":{\"outlinewidth\":0,\"ticks\":\"\"}}}],\"carpet\":[{\"aaxis\":{\"endlinecolor\":\"#2a3f5f\",\"gridcolor\":\"white\",\"linecolor\":\"white\",\"minorgridcolor\":\"white\",\"startlinecolor\":\"#2a3f5f\"},\"baxis\":{\"endlinecolor\":\"#2a3f5f\",\"gridcolor\":\"white\",\"linecolor\":\"white\",\"minorgridcolor\":\"white\",\"startlinecolor\":\"#2a3f5f\"},\"type\":\"carpet\"}],\"table\":[{\"cells\":{\"fill\":{\"color\":\"#EBF0F8\"},\"line\":{\"color\":\"white\"}},\"header\":{\"fill\":{\"color\":\"#C8D4E3\"},\"line\":{\"color\":\"white\"}},\"type\":\"table\"}],\"barpolar\":[{\"marker\":{\"line\":{\"color\":\"#E5ECF6\",\"width\":0.5},\"pattern\":{\"fillmode\":\"overlay\",\"size\":10,\"solidity\":0.2}},\"type\":\"barpolar\"}],\"pie\":[{\"automargin\":true,\"type\":\"pie\"}]},\"layout\":{\"autotypenumbers\":\"strict\",\"colorway\":[\"#636efa\",\"#EF553B\",\"#00cc96\",\"#ab63fa\",\"#FFA15A\",\"#19d3f3\",\"#FF6692\",\"#B6E880\",\"#FF97FF\",\"#FECB52\"],\"font\":{\"color\":\"#2a3f5f\"},\"hovermode\":\"closest\",\"hoverlabel\":{\"align\":\"left\"},\"paper_bgcolor\":\"white\",\"plot_bgcolor\":\"#E5ECF6\",\"polar\":{\"bgcolor\":\"#E5ECF6\",\"angularaxis\":{\"gridcolor\":\"white\",\"linecolor\":\"white\",\"ticks\":\"\"},\"radialaxis\":{\"gridcolor\":\"white\",\"linecolor\":\"white\",\"ticks\":\"\"}},\"ternary\":{\"bgcolor\":\"#E5ECF6\",\"aaxis\":{\"gridcolor\":\"white\",\"linecolor\":\"white\",\"ticks\":\"\"},\"baxis\":{\"gridcolor\":\"white\",\"linecolor\":\"white\",\"ticks\":\"\"},\"caxis\":{\"gridcolor\":\"white\",\"linecolor\":\"white\",\"ticks\":\"\"}},\"coloraxis\":{\"colorbar\":{\"outlinewidth\":0,\"ticks\":\"\"}},\"colorscale\":{\"sequential\":[[0.0,\"#0d0887\"],[0.1111111111111111,\"#46039f\"],[0.2222222222222222,\"#7201a8\"],[0.3333333333333333,\"#9c179e\"],[0.4444444444444444,\"#bd3786\"],[0.5555555555555556,\"#d8576b\"],[0.6666666666666666,\"#ed7953\"],[0.7777777777777778,\"#fb9f3a\"],[0.8888888888888888,\"#fdca26\"],[1.0,\"#f0f921\"]],\"sequentialminus\":[[0.0,\"#0d0887\"],[0.1111111111111111,\"#46039f\"],[0.2222222222222222,\"#7201a8\"],[0.3333333333333333,\"#9c179e\"],[0.4444444444444444,\"#bd3786\"],[0.5555555555555556,\"#d8576b\"],[0.6666666666666666,\"#ed7953\"],[0.7777777777777778,\"#fb9f3a\"],[0.8888888888888888,\"#fdca26\"],[1.0,\"#f0f921\"]],\"diverging\":[[0,\"#8e0152\"],[0.1,\"#c51b7d\"],[0.2,\"#de77ae\"],[0.3,\"#f1b6da\"],[0.4,\"#fde0ef\"],[0.5,\"#f7f7f7\"],[0.6,\"#e6f5d0\"],[0.7,\"#b8e186\"],[0.8,\"#7fbc41\"],[0.9,\"#4d9221\"],[1,\"#276419\"]]},\"xaxis\":{\"gridcolor\":\"white\",\"linecolor\":\"white\",\"ticks\":\"\",\"title\":{\"standoff\":15},\"zerolinecolor\":\"white\",\"automargin\":true,\"zerolinewidth\":2},\"yaxis\":{\"gridcolor\":\"white\",\"linecolor\":\"white\",\"ticks\":\"\",\"title\":{\"standoff\":15},\"zerolinecolor\":\"white\",\"automargin\":true,\"zerolinewidth\":2},\"scene\":{\"xaxis\":{\"backgroundcolor\":\"#E5ECF6\",\"gridcolor\":\"white\",\"linecolor\":\"white\",\"showbackground\":true,\"ticks\":\"\",\"zerolinecolor\":\"white\",\"gridwidth\":2},\"yaxis\":{\"backgroundcolor\":\"#E5ECF6\",\"gridcolor\":\"white\",\"linecolor\":\"white\",\"showbackground\":true,\"ticks\":\"\",\"zerolinecolor\":\"white\",\"gridwidth\":2},\"zaxis\":{\"backgroundcolor\":\"#E5ECF6\",\"gridcolor\":\"white\",\"linecolor\":\"white\",\"showbackground\":true,\"ticks\":\"\",\"zerolinecolor\":\"white\",\"gridwidth\":2}},\"shapedefaults\":{\"line\":{\"color\":\"#2a3f5f\"}},\"annotationdefaults\":{\"arrowcolor\":\"#2a3f5f\",\"arrowhead\":0,\"arrowwidth\":1},\"geo\":{\"bgcolor\":\"white\",\"landcolor\":\"#E5ECF6\",\"subunitcolor\":\"white\",\"showland\":true,\"showlakes\":true,\"lakecolor\":\"white\"},\"title\":{\"x\":0.05},\"mapbox\":{\"style\":\"light\"}}},\"legend\":{\"tracegroupgap\":0},\"title\":{\"text\":\"Pfizer vs Moderna vs Astrazeneca\"}},                        {\"responsive\": true}                    ).then(function(){\n",
       "                            \n",
       "var gd = document.getElementById('2e0cbb4b-4a3e-44fb-8847-42baccabc290');\n",
       "var x = new MutationObserver(function (mutations, observer) {{\n",
       "        var display = window.getComputedStyle(gd).display;\n",
       "        if (!display || display === 'none') {{\n",
       "            console.log([gd, 'removed!']);\n",
       "            Plotly.purge(gd);\n",
       "            observer.disconnect();\n",
       "        }}\n",
       "}});\n",
       "\n",
       "// Listen for the removal of the full notebook cells\n",
       "var notebookContainer = gd.closest('#notebook-container');\n",
       "if (notebookContainer) {{\n",
       "    x.observe(notebookContainer, {childList: true});\n",
       "}}\n",
       "\n",
       "// Listen for the clearing of the current output cell\n",
       "var outputEl = gd.closest('.output');\n",
       "if (outputEl) {{\n",
       "    x.observe(outputEl, {childList: true});\n",
       "}}\n",
       "\n",
       "                        })                };                });            </script>        </div>"
      ]
     },
     "metadata": {},
     "output_type": "display_data"
    }
   ],
   "source": [
    "pfizer_dose = covidvac_de_df[\"pfizer_cumul\"].max()\n",
    "moderna_dose = covidvac_de_df[\"moderna_cumul\"].max()\n",
    "astrazeneca_dose = covidvac_de_df[\"astrazeneca_cumul\"].max()\n",
    "px.pie(names=[\"Pfizer\", \"Moderna\", \"Astrazeneca\"], values=[pfizer_dose, moderna_dose, astrazeneca_dose], title = \"Pfizer vs Moderna vs Astrazeneca\")"
   ]
  },
  {
   "cell_type": "code",
   "execution_count": 76,
   "id": "8950eda2",
   "metadata": {},
   "outputs": [
    {
     "data": {
      "image/png": "[encoded data removed]",
      "text/plain": [
       "<Figure size 1200x600 with 1 Axes>"
      ]
     },
     "metadata": {},
     "output_type": "display_data"
    }
   ],
   "source": [
    "# Let's now observe the the trend of active cases in Germany over the years\n",
    "\n",
    "fig = plt.figure(figsize=(12, 6))\n",
    "\n",
    "ax = sns.lineplot(y = covidvac_de_df[\"doses\"], x= covidvac_de_df[\"date\"])\n",
    "ax.set_title(\"The progress of daily vaccination\", size=16)\n",
    "\n",
    "plt.show()"
   ]
  },
  {
   "cell_type": "code",
   "execution_count": 84,
   "id": "d6a0e7ad",
   "metadata": {},
   "outputs": [],
   "source": [
    "# Just select the two rows from the original dataset that contains max number of first and second dose information\n",
    "max_first_dose = covidvac_de_df[covidvac_de_df.doses_first == covidvac_de_df.doses_first.max()]\n",
    "\n",
    "#keep only date and doses_first from the large table\n",
    "max_first_dose = max_first_dose[['date', 'doses_first']]"
   ]
  },
  {
   "cell_type": "code",
   "execution_count": 85,
   "id": "fd86db5a",
   "metadata": {},
   "outputs": [],
   "source": [
    "max_second_dose = covidvac_de_df[covidvac_de_df.doses_second == covidvac_de_df.doses_second.max()]\n",
    "\n",
    "#keep only date and doses_first from the large table\n",
    "max_second_dose = max_second_dose[['date', 'doses_second']]"
   ]
  },
  {
   "cell_type": "code",
   "execution_count": 86,
   "id": "a21b4866",
   "metadata": {},
   "outputs": [
    {
     "data": {
      "text/html": [
       "<div>\n",
       "<style scoped>\n",
       "    .dataframe tbody tr th:only-of-type {\n",
       "        vertical-align: middle;\n",
       "    }\n",
       "\n",
       "    .dataframe tbody tr th {\n",
       "        vertical-align: top;\n",
       "    }\n",
       "\n",
       "    .dataframe thead th {\n",
       "        text-align: right;\n",
       "    }\n",
       "</style>\n",
       "<table border=\"1\" class=\"dataframe\">\n",
       "  <thead>\n",
       "    <tr style=\"text-align: right;\">\n",
       "      <th></th>\n",
       "      <th>date</th>\n",
       "      <th>doses_first</th>\n",
       "      <th>doses_second</th>\n",
       "    </tr>\n",
       "  </thead>\n",
       "  <tbody>\n",
       "    <tr>\n",
       "      <th>136</th>\n",
       "      <td>2021-05-12</td>\n",
       "      <td>1095872.0</td>\n",
       "      <td>NaN</td>\n",
       "    </tr>\n",
       "    <tr>\n",
       "      <th>164</th>\n",
       "      <td>2021-06-09</td>\n",
       "      <td>NaN</td>\n",
       "      <td>930602.0</td>\n",
       "    </tr>\n",
       "  </tbody>\n",
       "</table>\n",
       "</div>"
      ],
      "text/plain": [
       "          date  doses_first  doses_second\n",
       "136 2021-05-12    1095872.0           NaN\n",
       "164 2021-06-09          NaN      930602.0"
      ]
     },
     "execution_count": 86,
     "metadata": {},
     "output_type": "execute_result"
    }
   ],
   "source": [
    "# Now let's merge these two dataframes\n",
    "\n",
    "dose_dataframes = [max_first_dose, max_second_dose]\n",
    "\n",
    "highest_doses = pd.concat(dose_dataframes)\n",
    "\n",
    "highest_doses"
   ]
  },
  {
   "cell_type": "code",
   "execution_count": 88,
   "id": "f3b2113d",
   "metadata": {},
   "outputs": [
    {
     "data": {
      "image/png": "[encoded data removed]",
      "text/plain": [
       "<Figure size 640x480 with 1 Axes>"
      ]
     },
     "metadata": {},
     "output_type": "display_data"
    }
   ],
   "source": [
    "highest_doses.plot(x=\"date\", y=[\"doses_first\", \"doses_second\"], kind=\"bar\")\n",
    "plt.show()"
   ]
  },
  {
   "cell_type": "code",
   "execution_count": null,
   "id": "1402bdfd",
   "metadata": {},
   "outputs": [],
   "source": []
  }
 ],
 "metadata": {
  "kernelspec": {
   "display_name": "Python 3",
   "language": "python",
   "name": "python3"
  },
  "language_info": {
   "codemirror_mode": {
    "name": "ipython",
    "version": 3
   },
   "file_extension": ".py",
   "mimetype": "text/x-python",
   "name": "python",
   "nbconvert_exporter": "python",
   "pygments_lexer": "ipython3",
   "version": "3.7.3"
  }
 },
 "nbformat": 4,
 "nbformat_minor": 5
}
